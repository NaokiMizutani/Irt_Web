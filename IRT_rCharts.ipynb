{
 "cells": [
  {
   "cell_type": "code",
   "execution_count": 1,
   "metadata": {
    "collapsed": true
   },
   "outputs": [],
   "source": [
    "library(rCharts)"
   ]
  },
  {
   "cell_type": "code",
   "execution_count": null,
   "metadata": {
    "collapsed": false
   },
   "outputs": [],
   "source": [
    "d <- expand.grid(g = letters[1:4], x = 1:12)\n",
    "d$y <- rpois(nrow(d), 100)\n",
    "p <- hPlot(y~x, group = \"g\", data = d)\n",
    "p$show()"
   ]
  },
  {
   "cell_type": "code",
   "execution_count": null,
   "metadata": {
    "collapsed": false
   },
   "outputs": [],
   "source": [
    "xdata <- c(1, 2, 3, 4, 5)\n",
    "ydata <- c(2, 3, 4, 1, 5)\n",
    "data <- data.frame(x = xdata, y = ydata)\n",
    "print(data)\n",
    "p <- hPlot(y~x, data=data)\n",
    "p$show()"
   ]
  },
  {
   "cell_type": "code",
   "execution_count": 2,
   "metadata": {
    "collapsed": false
   },
   "outputs": [],
   "source": [
    "model2pl <- function(x, a, b) {\n",
    "    return (1.0 / (1.0 + exp(-1.701 * a * (x - b))))\n",
    "}"
   ]
  },
  {
   "cell_type": "code",
   "execution_count": 12,
   "metadata": {
    "collapsed": false
   },
   "outputs": [],
   "source": [
    "xdata <- seq(-4.0, 4.01, by=0.1)\n",
    "ydata1 <- model2pl(xdata, a=0.5, b=-1.0)\n",
    "ydata2 <- model2pl(xdata, a=1.0, b=-0.5)\n",
    "ydata3 <- model2pl(xdata, a=1.5, b=0.0)\n",
    "ydata4 <- model2pl(xdata, a=2.0, b=0.5)\n",
    "ydata5 <- model2pl(xdata, a=3.0, b=1.0)"
   ]
  },
  {
   "cell_type": "code",
   "execution_count": 21,
   "metadata": {
    "collapsed": false
   },
   "outputs": [],
   "source": [
    "\n",
    "data1 <- data.frame(type=rep('A', length=81), x=xdata, y=ydata1)\n",
    "data2 <- data.frame(type=rep('B', length=81), x=xdata, y=ydata2)\n",
    "data3 <- data.frame(type=rep('C', length=81), x=xdata, y=ydata3)\n",
    "data4 <- data.frame(type=rep('D', length=81), x=xdata, y=ydata4)\n",
    "data5 <- data.frame(type=rep('E', length=81), x=xdata, y=ydata5)\n",
    "\n",
    "data <- rbind(data1, data2, data3, data4, data5)"
   ]
  },
  {
   "cell_type": "code",
   "execution_count": 35,
   "metadata": {
    "collapsed": false
   },
   "outputs": [],
   "source": [
    "p <- hPlot(y~x, group=\"type\", data=data, type = 'line', title = '項目特性曲線', subtitle = 'Item Characteristic Curves')\n",
    "p$chart(zoomType = \"xy\")\n",
    "p$exporting(enabled = T)\n",
    "p$xAxis(title = list(text = \"Ability\"), min = -4.0, max = 4.0, gridLineWidth = 1)\n",
    "p$yAxis(title = list(text = \"Probability\"), min = 0.0, max = 1.0, gridLineWidth = 1)\n",
    "p$plotOptions(line = list(marker = list(enabled = F)))\n",
    "p$legend(align = 'right', verticalAlign = 'bottom', layout = 'vertical')\n",
    "p$show()"
   ]
  },
  {
   "cell_type": "code",
   "execution_count": 10,
   "metadata": {
    "collapsed": true
   },
   "outputs": [],
   "source": [
    "p <- hPlot(ydata~xdata, data)\n",
    "p$show()"
   ]
  },
  {
   "cell_type": "code",
   "execution_count": null,
   "metadata": {
    "collapsed": false
   },
   "outputs": [],
   "source": [
    "xdata <- seq(-4.0, 4.01, by =0.1)\n",
    "print(xdata)\n",
    "ydata <- apply(xdata, 1, model2pl)\n",
    "print(ydata)"
   ]
  },
  {
   "cell_type": "code",
   "execution_count": 36,
   "metadata": {
    "collapsed": false
   },
   "outputs": [
    {
     "name": "stderr",
     "output_type": "stream",
     "text": [
      "Loading required package: MASS\n",
      "Loading required package: msm\n",
      "Loading required package: polycor\n",
      "Loading required package: mvtnorm\n",
      "Loading required package: sfsmisc\n"
     ]
    }
   ],
   "source": [
    "library(ltm)"
   ]
  },
  {
   "cell_type": "code",
   "execution_count": 37,
   "metadata": {
    "collapsed": true
   },
   "outputs": [],
   "source": [
    "csvdata <- read.csv('~/IrtWeb/irt_sample.csv', header = TRUE)"
   ]
  },
  {
   "cell_type": "code",
   "execution_count": 39,
   "metadata": {
    "collapsed": false
   },
   "outputs": [],
   "source": [
    "result <- ltm(csvdata~z1, IRT.param = TRUE)"
   ]
  },
  {
   "cell_type": "code",
   "execution_count": 55,
   "metadata": {
    "collapsed": false
   },
   "outputs": [
    {
     "data": {
      "text/html": [
       "<table>\n",
       "<thead><tr><th></th><th scope=col>(Intercept)</th><th scope=col>z1</th></tr></thead>\n",
       "<tbody>\n",
       "\t<tr><th scope=row>A</th><td>1.430019</td><td>1.215814</td></tr>\n",
       "\t<tr><th scope=row>B</th><td>0.6164858</td><td>1.5742688</td></tr>\n",
       "\t<tr><th scope=row>C</th><td> 0.8940602</td><td>16.8993942</td></tr>\n",
       "\t<tr><th scope=row>D</th><td>-0.2354762</td><td> 1.1696718</td></tr>\n",
       "\t<tr><th scope=row>E</th><td>-1.368762</td><td> 1.181162</td></tr>\n",
       "</tbody>\n",
       "</table>\n"
      ],
      "text/latex": [
       "\\begin{tabular}{r|ll}\n",
       "  & (Intercept) & z1\\\\\n",
       "\\hline\n",
       "\tA & 1.430019 & 1.215814\\\\\n",
       "\tB & 0.6164858 & 1.5742688\\\\\n",
       "\tC &  0.8940602 & 16.8993942\\\\\n",
       "\tD & -0.2354762 &  1.1696718\\\\\n",
       "\tE & -1.368762 &  1.181162\\\\\n",
       "\\end{tabular}\n"
      ],
      "text/markdown": [
       "1. 1.43001922682034\n",
       "2. 0.616485753467014\n",
       "3. 0.894060199414649\n",
       "4. -0.235476211241121\n",
       "5. -1.36876237236943\n",
       "6. 1.2158137738705\n",
       "7. 1.57426875036419\n",
       "8. 16.8993942244502\n",
       "9. 1.16967183728793\n",
       "10. 1.18116242017197\n",
       "\n",
       "\n"
      ],
      "text/plain": [
       "  (Intercept)        z1\n",
       "A   1.4300192  1.215814\n",
       "B   0.6164858  1.574269\n",
       "C   0.8940602 16.899394\n",
       "D  -0.2354762  1.169672\n",
       "E  -1.3687624  1.181162"
      ]
     },
     "execution_count": 55,
     "metadata": {},
     "output_type": "execute_result"
    }
   ],
   "source": [
    "coef0 <- result$coefficient\n",
    "coef0"
   ]
  },
  {
   "cell_type": "code",
   "execution_count": 56,
   "metadata": {
    "collapsed": false
   },
   "outputs": [
    {
     "data": {
      "text/html": [
       "<dl>\n",
       "\t<dt>$dim</dt>\n",
       "\t\t<dd><ol class=list-inline>\n",
       "\t<li>5</li>\n",
       "\t<li>2</li>\n",
       "</ol>\n",
       "</dd>\n",
       "\t<dt>$dimnames</dt>\n",
       "\t\t<dd><ol>\n",
       "\t<li><ol class=list-inline>\n",
       "\t<li>'A'</li>\n",
       "\t<li>'B'</li>\n",
       "\t<li>'C'</li>\n",
       "\t<li>'D'</li>\n",
       "\t<li>'E'</li>\n",
       "</ol>\n",
       "</li>\n",
       "\t<li><ol class=list-inline>\n",
       "\t<li>'(Intercept)'</li>\n",
       "\t<li>'z1'</li>\n",
       "</ol>\n",
       "</li>\n",
       "</ol>\n",
       "</dd>\n",
       "</dl>\n"
      ],
      "text/latex": [
       "\\begin{description}\n",
       "\\item[\\$dim] \\begin{enumerate*}\n",
       "\\item 5\n",
       "\\item 2\n",
       "\\end{enumerate*}\n",
       "\n",
       "\\item[\\$dimnames] \\begin{enumerate}\n",
       "\\item \\begin{enumerate*}\n",
       "\\item 'A'\n",
       "\\item 'B'\n",
       "\\item 'C'\n",
       "\\item 'D'\n",
       "\\item 'E'\n",
       "\\end{enumerate*}\n",
       "\n",
       "\\item \\begin{enumerate*}\n",
       "\\item '(Intercept)'\n",
       "\\item 'z1'\n",
       "\\end{enumerate*}\n",
       "\n",
       "\\end{enumerate}\n",
       "\n",
       "\\end{description}\n"
      ],
      "text/markdown": [
       "$dim\n",
       ":   1. 5\n",
       "2. 2\n",
       "\n",
       "\n",
       "\n",
       "$dimnames\n",
       ":   1. 1. 'A'\n",
       "2. 'B'\n",
       "3. 'C'\n",
       "4. 'D'\n",
       "5. 'E'\n",
       "\n",
       "\n",
       "\n",
       "2. 1. '(Intercept)'\n",
       "2. 'z1'\n",
       "\n",
       "\n",
       "\n",
       "\n",
       "\n",
       "\n",
       "\n",
       "\n"
      ],
      "text/plain": [
       "$dim\n",
       "[1] 5 2\n",
       "\n",
       "$dimnames\n",
       "$dimnames[[1]]\n",
       "[1] \"A\" \"B\" \"C\" \"D\" \"E\"\n",
       "\n",
       "$dimnames[[2]]\n",
       "[1] \"(Intercept)\" \"z1\"         \n",
       "\n"
      ]
     },
     "execution_count": 56,
     "metadata": {},
     "output_type": "execute_result"
    }
   ],
   "source": [
    "attributes(coef0)"
   ]
  },
  {
   "cell_type": "code",
   "execution_count": 71,
   "metadata": {
    "collapsed": false
   },
   "outputs": [
    {
     "data": {
      "text/html": [
       "<ol>\n",
       "\t<li><ol class=list-inline>\n",
       "\t<li>'A'</li>\n",
       "\t<li>'B'</li>\n",
       "\t<li>'C'</li>\n",
       "\t<li>'D'</li>\n",
       "\t<li>'E'</li>\n",
       "</ol>\n",
       "</li>\n",
       "\t<li><ol class=list-inline>\n",
       "\t<li>'(Intercept)'</li>\n",
       "\t<li>'z1'</li>\n",
       "</ol>\n",
       "</li>\n",
       "</ol>\n"
      ],
      "text/latex": [
       "\\begin{enumerate}\n",
       "\\item \\begin{enumerate*}\n",
       "\\item 'A'\n",
       "\\item 'B'\n",
       "\\item 'C'\n",
       "\\item 'D'\n",
       "\\item 'E'\n",
       "\\end{enumerate*}\n",
       "\n",
       "\\item \\begin{enumerate*}\n",
       "\\item '(Intercept)'\n",
       "\\item 'z1'\n",
       "\\end{enumerate*}\n",
       "\n",
       "\\end{enumerate}\n"
      ],
      "text/markdown": [
       "1. 1. 'A'\n",
       "2. 'B'\n",
       "3. 'C'\n",
       "4. 'D'\n",
       "5. 'E'\n",
       "\n",
       "\n",
       "\n",
       "2. 1. '(Intercept)'\n",
       "2. 'z1'\n",
       "\n",
       "\n",
       "\n",
       "\n",
       "\n"
      ],
      "text/plain": [
       "[[1]]\n",
       "[1] \"A\" \"B\" \"C\" \"D\" \"E\"\n",
       "\n",
       "[[2]]\n",
       "[1] \"(Intercept)\" \"z1\"         \n"
      ]
     },
     "execution_count": 71,
     "metadata": {},
     "output_type": "execute_result"
    }
   ],
   "source": [
    "dimnames(coef0)"
   ]
  },
  {
   "cell_type": "code",
   "execution_count": 93,
   "metadata": {
    "collapsed": false
   },
   "outputs": [
    {
     "data": {
      "text/html": [
       "1.57426875036419"
      ],
      "text/latex": [
       "1.57426875036419"
      ],
      "text/markdown": [
       "1.57426875036419"
      ],
      "text/plain": [
       "[1] 1.574269"
      ]
     },
     "execution_count": 93,
     "metadata": {},
     "output_type": "execute_result"
    }
   ],
   "source": [
    "coef0[2,2]"
   ]
  },
  {
   "cell_type": "code",
   "execution_count": 80,
   "metadata": {
    "collapsed": false
   },
   "outputs": [
    {
     "data": {
      "text/html": [
       "'A'"
      ],
      "text/latex": [
       "'A'"
      ],
      "text/markdown": [
       "'A'"
      ],
      "text/plain": [
       "[1] \"A\""
      ]
     },
     "execution_count": 80,
     "metadata": {},
     "output_type": "execute_result"
    }
   ],
   "source": [
    "dimnames(coef0)[[1]][1]"
   ]
  },
  {
   "cell_type": "code",
   "execution_count": 84,
   "metadata": {
    "collapsed": false
   },
   "outputs": [
    {
     "data": {
      "text/html": [
       "5"
      ],
      "text/latex": [
       "5"
      ],
      "text/markdown": [
       "5"
      ],
      "text/plain": [
       "[1] 5"
      ]
     },
     "execution_count": 84,
     "metadata": {},
     "output_type": "execute_result"
    }
   ],
   "source": [
    "valsize = length(dimnames(coef0)[[1]])\n",
    "valsize"
   ]
  },
  {
   "cell_type": "code",
   "execution_count": 94,
   "metadata": {
    "collapsed": false
   },
   "outputs": [],
   "source": [
    "data <- data.frame()\n",
    "xdata <- seq(-4.0, 4.01, by=0.1)\n",
    "for (i in 1:valsize) {\n",
    "    ydata_tmp <- model2pl(xdata, a=coef0[i, 2], b=coef0[i, 1])\n",
    "    data_tmp <- data.frame(type=rep(dimnames(coef0)[[1]][i], length=81), x=xdata, y=ydata_tmp)\n",
    "    data <- rbind(data, data_tmp)\n",
    "}"
   ]
  },
  {
   "cell_type": "code",
   "execution_count": null,
   "metadata": {
    "collapsed": true
   },
   "outputs": [],
   "source": [
    "data"
   ]
  },
  {
   "cell_type": "code",
   "execution_count": 96,
   "metadata": {
    "collapsed": true
   },
   "outputs": [],
   "source": [
    "p <- hPlot(y~x, group=\"type\", data=data, type = 'line', title = '項目特性曲線', subtitle = 'Item Characteristic Curves')\n",
    "p$chart(zoomType = \"xy\")\n",
    "p$exporting(enabled = T)\n",
    "p$xAxis(title = list(text = \"Ability\"), min = -4.0, max = 4.0, gridLineWidth = 1)\n",
    "p$yAxis(title = list(text = \"Probability\"), min = 0.0, max = 1.0, gridLineWidth = 1)\n",
    "p$plotOptions(line = list(marker = list(enabled = F)))\n",
    "p$legend(align = 'right', verticalAlign = 'bottom', layout = 'vertical')\n",
    "p$show()"
   ]
  },
  {
   "cell_type": "code",
   "execution_count": 98,
   "metadata": {
    "collapsed": false
   },
   "outputs": [
    {
     "data": {
      "text/plain": [
       "\n",
       "Call:\n",
       "ltm(formula = csvdata ~ z1, IRT.param = TRUE)\n",
       "\n",
       "Coefficients:\n",
       "   Dffclt  Dscrmn\n",
       "A  -1.176   1.216\n",
       "B  -0.392   1.574\n",
       "C  -0.053  16.899\n",
       "D   0.201   1.170\n",
       "E   1.159   1.181\n",
       "\n",
       "Log.Lik: -56.733\n"
      ]
     },
     "execution_count": 98,
     "metadata": {},
     "output_type": "execute_result"
    }
   ],
   "source": [
    "result"
   ]
  },
  {
   "cell_type": "code",
   "execution_count": 102,
   "metadata": {
    "collapsed": false
   },
   "outputs": [],
   "source": [
    "summary <- summary(result)"
   ]
  },
  {
   "cell_type": "code",
   "execution_count": 103,
   "metadata": {
    "collapsed": false
   },
   "outputs": [
    {
     "name": "stdout",
     "output_type": "stream",
     "text": [
      "List of 11\n",
      " $ coefficients: num [1:10, 1:3] -1.1762 -0.3916 -0.0529 0.2013 1.1588 ...\n",
      "  ..- attr(*, \"dimnames\")=List of 2\n",
      "  .. ..$ : chr [1:10] \"Dffclt.A\" \"Dffclt.B\" \"Dffclt.C\" \"Dffclt.D\" ...\n",
      "  .. ..$ : chr [1:3] \"value\" \"std.err\" \"z.vals\"\n",
      " $ Var.betas   : num [1:10, 1:10] 0.5771 0.1069 0.5306 0.0815 0.0997 ...\n",
      "  ..- attr(*, \"dimnames\")=List of 2\n",
      "  .. ..$ : chr [1:10] \"(Intercept).1\" \"(Intercept).2\" \"(Intercept).3\" \"(Intercept).4\" ...\n",
      "  .. ..$ : chr [1:10] \"(Intercept).1\" \"(Intercept).2\" \"(Intercept).3\" \"(Intercept).4\" ...\n",
      " $ logLik      : num -56.7\n",
      " $ AIC         : num 133\n",
      " $ BIC         : num 143\n",
      " $ max.sc      : num 0.000346\n",
      " $ conv        : int 0\n",
      " $ counts      : Named int [1:2] 2 1\n",
      "  ..- attr(*, \"names\")= chr [1:2] \"function\" \"gradient\"\n",
      " $ call        : language ltm(formula = csvdata ~ z1, IRT.param = TRUE)\n",
      " $ ltst        :List of 5\n",
      "  ..$ factors: int 1\n",
      "  ..$ inter  : logi FALSE\n",
      "  ..$ quad.z1: logi FALSE\n",
      "  ..$ quad.z2: logi FALSE\n",
      "  ..$ nams   : chr [1:2] \"(Intercept)\" \"z1\"\n",
      " $ control     :List of 6\n",
      "  ..$ iter.em : num 40\n",
      "  ..$ iter.qN : num 150\n",
      "  ..$ GHk     : num 21\n",
      "  ..$ method  : chr \"BFGS\"\n",
      "  ..$ parscale: NULL\n",
      "  ..$ verbose : logi FALSE\n",
      " - attr(*, \"class\")= chr \"summ.ltm\"\n"
     ]
    }
   ],
   "source": [
    "str(summary)"
   ]
  },
  {
   "cell_type": "code",
   "execution_count": 104,
   "metadata": {
    "collapsed": false
   },
   "outputs": [
    {
     "data": {
      "text/html": [
       "<table>\n",
       "<thead><tr><th></th><th scope=col>value</th><th scope=col>std.err</th><th scope=col>z.vals</th></tr></thead>\n",
       "<tbody>\n",
       "\t<tr><th scope=row>Dffclt.A</th><td>-1.1761828</td><td> 0.7697059</td><td>-1.5280937</td></tr>\n",
       "\t<tr><th scope=row>Dffclt.B</th><td>-0.3916013</td><td> 0.4449440</td><td>-0.8801138</td></tr>\n",
       "\t<tr><th scope=row>Dffclt.C</th><td>-0.05290487</td><td> 0.82343727</td><td>-0.06424881</td></tr>\n",
       "\t<tr><th scope=row>Dffclt.D</th><td>0.2013182</td><td>0.5043902</td><td>0.3991319</td></tr>\n",
       "\t<tr><th scope=row>Dffclt.E</th><td>1.1588266</td><td>0.8257548</td><td>1.4033543</td></tr>\n",
       "\t<tr><th scope=row>Dscrmn.A</th><td>1.2158138</td><td>0.9135998</td><td>1.3307947</td></tr>\n",
       "\t<tr><th scope=row>Dscrmn.B</th><td>1.574269</td><td>1.045622</td><td>1.505581</td></tr>\n",
       "\t<tr><th scope=row>Dscrmn.C</th><td> 16.89939422</td><td>260.58495015</td><td>  0.06485177</td></tr>\n",
       "\t<tr><th scope=row>Dscrmn.D</th><td>1.1696718</td><td>0.8445942</td><td>1.3848921</td></tr>\n",
       "\t<tr><th scope=row>Dscrmn.E</th><td>1.1811624</td><td>0.9752508</td><td>1.2111371</td></tr>\n",
       "</tbody>\n",
       "</table>\n"
      ],
      "text/latex": [
       "\\begin{tabular}{r|lll}\n",
       "  & value & std.err & z.vals\\\\\n",
       "\\hline\n",
       "\tDffclt.A & -1.1761828 &  0.7697059 & -1.5280937\\\\\n",
       "\tDffclt.B & -0.3916013 &  0.4449440 & -0.8801138\\\\\n",
       "\tDffclt.C & -0.05290487 &  0.82343727 & -0.06424881\\\\\n",
       "\tDffclt.D & 0.2013182 & 0.5043902 & 0.3991319\\\\\n",
       "\tDffclt.E & 1.1588266 & 0.8257548 & 1.4033543\\\\\n",
       "\tDscrmn.A & 1.2158138 & 0.9135998 & 1.3307947\\\\\n",
       "\tDscrmn.B & 1.574269 & 1.045622 & 1.505581\\\\\n",
       "\tDscrmn.C &  16.89939422 & 260.58495015 &   0.06485177\\\\\n",
       "\tDscrmn.D & 1.1696718 & 0.8445942 & 1.3848921\\\\\n",
       "\tDscrmn.E & 1.1811624 & 0.9752508 & 1.2111371\\\\\n",
       "\\end{tabular}\n"
      ],
      "text/markdown": [
       "1. -1.17618278189754\n",
       "2. -0.391601340828493\n",
       "3. -0.0529048667390167\n",
       "4. 0.201318184925364\n",
       "5. 1.15882655001007\n",
       "6. 1.2158137738705\n",
       "7. 1.57426875036419\n",
       "8. 16.8993942244502\n",
       "9. 1.16967183728793\n",
       "10. 1.18116242017197\n",
       "11. 0.769705910721895\n",
       "12. 0.444943985608773\n",
       "13. 0.823437267806331\n",
       "14. 0.504390173643303\n",
       "15. 0.82575481516926\n",
       "16. 0.913599813253691\n",
       "17. 1.04562218561719\n",
       "18. 260.584950153147\n",
       "19. 0.844594207562294\n",
       "20. 0.975250802569501\n",
       "21. -1.52809373750867\n",
       "22. -0.880113797454085\n",
       "23. -0.0642488126387058\n",
       "24. 0.399131853563295\n",
       "25. 1.40335427504899\n",
       "26. 1.33079468300295\n",
       "27. 1.50558086086799\n",
       "28. 0.0648517660537127\n",
       "29. 1.38489208997051\n",
       "30. 1.2111370911564\n",
       "\n",
       "\n"
      ],
      "text/plain": [
       "               value     std.err      z.vals\n",
       "Dffclt.A -1.17618278   0.7697059 -1.52809374\n",
       "Dffclt.B -0.39160134   0.4449440 -0.88011380\n",
       "Dffclt.C -0.05290487   0.8234373 -0.06424881\n",
       "Dffclt.D  0.20131818   0.5043902  0.39913185\n",
       "Dffclt.E  1.15882655   0.8257548  1.40335428\n",
       "Dscrmn.A  1.21581377   0.9135998  1.33079468\n",
       "Dscrmn.B  1.57426875   1.0456222  1.50558086\n",
       "Dscrmn.C 16.89939422 260.5849502  0.06485177\n",
       "Dscrmn.D  1.16967184   0.8445942  1.38489209\n",
       "Dscrmn.E  1.18116242   0.9752508  1.21113709"
      ]
     },
     "execution_count": 104,
     "metadata": {},
     "output_type": "execute_result"
    }
   ],
   "source": [
    "summary$coefficients"
   ]
  },
  {
   "cell_type": "code",
   "execution_count": 105,
   "metadata": {
    "collapsed": false
   },
   "outputs": [
    {
     "data": {
      "text/html": [
       "'matrix'"
      ],
      "text/latex": [
       "'matrix'"
      ],
      "text/markdown": [
       "'matrix'"
      ],
      "text/plain": [
       "[1] \"matrix\""
      ]
     },
     "execution_count": 105,
     "metadata": {},
     "output_type": "execute_result"
    }
   ],
   "source": [
    "class(summary$coefficients)"
   ]
  },
  {
   "cell_type": "code",
   "execution_count": 128,
   "metadata": {
    "collapsed": false
   },
   "outputs": [],
   "source": [
    "coef <- summary$coefficients[,1]"
   ]
  },
  {
   "cell_type": "code",
   "execution_count": 131,
   "metadata": {
    "collapsed": false
   },
   "outputs": [
    {
     "data": {
      "text/html": [
       "<dl class=dl-horizontal>\n",
       "</dl>\n"
      ],
      "text/latex": [
       "\\begin{description*}\n",
       "\\end{description*}\n"
      ],
      "text/markdown": [
       "\n",
       "\n"
      ],
      "text/plain": [
       "named numeric(0)"
      ]
     },
     "execution_count": 131,
     "metadata": {},
     "output_type": "execute_result"
    }
   ],
   "source": [
    "coef[0]"
   ]
  },
  {
   "cell_type": "code",
   "execution_count": 108,
   "metadata": {
    "collapsed": false
   },
   "outputs": [
    {
     "data": {
      "text/html": [
       "<table>\n",
       "<thead><tr><th></th><th scope=col>(Intercept)</th><th scope=col>z1</th></tr></thead>\n",
       "<tbody>\n",
       "\t<tr><th scope=row>A</th><td>1.430019</td><td>1.215814</td></tr>\n",
       "\t<tr><th scope=row>B</th><td>0.6164858</td><td>1.5742688</td></tr>\n",
       "\t<tr><th scope=row>C</th><td> 0.8940602</td><td>16.8993942</td></tr>\n",
       "\t<tr><th scope=row>D</th><td>-0.2354762</td><td> 1.1696718</td></tr>\n",
       "\t<tr><th scope=row>E</th><td>-1.368762</td><td> 1.181162</td></tr>\n",
       "</tbody>\n",
       "</table>\n"
      ],
      "text/latex": [
       "\\begin{tabular}{r|ll}\n",
       "  & (Intercept) & z1\\\\\n",
       "\\hline\n",
       "\tA & 1.430019 & 1.215814\\\\\n",
       "\tB & 0.6164858 & 1.5742688\\\\\n",
       "\tC &  0.8940602 & 16.8993942\\\\\n",
       "\tD & -0.2354762 &  1.1696718\\\\\n",
       "\tE & -1.368762 &  1.181162\\\\\n",
       "\\end{tabular}\n"
      ],
      "text/markdown": [
       "1. 1.43001922682034\n",
       "2. 0.616485753467014\n",
       "3. 0.894060199414649\n",
       "4. -0.235476211241121\n",
       "5. -1.36876237236943\n",
       "6. 1.2158137738705\n",
       "7. 1.57426875036419\n",
       "8. 16.8993942244502\n",
       "9. 1.16967183728793\n",
       "10. 1.18116242017197\n",
       "\n",
       "\n"
      ],
      "text/plain": [
       "  (Intercept)        z1\n",
       "A   1.4300192  1.215814\n",
       "B   0.6164858  1.574269\n",
       "C   0.8940602 16.899394\n",
       "D  -0.2354762  1.169672\n",
       "E  -1.3687624  1.181162"
      ]
     },
     "execution_count": 108,
     "metadata": {},
     "output_type": "execute_result"
    }
   ],
   "source": [
    "result$coefficients"
   ]
  },
  {
   "cell_type": "code",
   "execution_count": 109,
   "metadata": {
    "collapsed": false
   },
   "outputs": [
    {
     "data": {
      "text/plain": [
       "\n",
       "Call:\n",
       "ltm(formula = csvdata ~ z1, IRT.param = TRUE)\n",
       "\n",
       "Coefficients:\n",
       "   Dffclt  Dscrmn\n",
       "A  -1.176   1.216\n",
       "B  -0.392   1.574\n",
       "C  -0.053  16.899\n",
       "D   0.201   1.170\n",
       "E   1.159   1.181\n",
       "\n",
       "Log.Lik: -56.733\n"
      ]
     },
     "execution_count": 109,
     "metadata": {},
     "output_type": "execute_result"
    }
   ],
   "source": [
    "result"
   ]
  },
  {
   "cell_type": "code",
   "execution_count": 110,
   "metadata": {
    "collapsed": false
   },
   "outputs": [
    {
     "data": {
      "text/html": [
       "'ltm'"
      ],
      "text/latex": [
       "'ltm'"
      ],
      "text/markdown": [
       "'ltm'"
      ],
      "text/plain": [
       "[1] \"ltm\""
      ]
     },
     "execution_count": 110,
     "metadata": {},
     "output_type": "execute_result"
    }
   ],
   "source": [
    "class(result)"
   ]
  },
  {
   "cell_type": "code",
   "execution_count": 111,
   "metadata": {
    "collapsed": false
   },
   "outputs": [
    {
     "data": {
      "text/html": [
       "-2.432085146064"
      ],
      "text/latex": [
       "-2.432085146064"
      ],
      "text/markdown": [
       "-2.432085146064"
      ],
      "text/plain": [
       "[1] -2.432085"
      ]
     },
     "execution_count": 111,
     "metadata": {},
     "output_type": "execute_result"
    }
   ],
   "source": [
    "-1.701*1.215814*1.176"
   ]
  },
  {
   "cell_type": "code",
   "execution_count": 112,
   "metadata": {
    "collapsed": false
   },
   "outputs": [
    {
     "data": {
      "text/html": [
       "0.919241462275941"
      ],
      "text/latex": [
       "0.919241462275941"
      ],
      "text/markdown": [
       "0.919241462275941"
      ],
      "text/plain": [
       "[1] 0.9192415"
      ]
     },
     "execution_count": 112,
     "metadata": {},
     "output_type": "execute_result"
    }
   ],
   "source": [
    "1/(1+2.718281828^(-2.432085146))"
   ]
  },
  {
   "cell_type": "code",
   "execution_count": 114,
   "metadata": {
    "collapsed": false
   },
   "outputs": [
    {
     "name": "stdout",
     "output_type": "stream",
     "text": [
      "List of 14\n",
      " $ coefficients: num [1:5, 1:2] 1.43 0.616 0.894 -0.235 -1.369 ...\n",
      "  ..- attr(*, \"dimnames\")=List of 2\n",
      "  .. ..$ : chr [1:5] \"A\" \"B\" \"C\" \"D\" ...\n",
      "  .. ..$ : chr [1:2] \"(Intercept)\" \"z1\"\n",
      " $ log.Lik     : num -56.7\n",
      " $ convergence : int 0\n",
      " $ hessian     : num [1:10, 1:10] 2.786 -0.247 -0.232 -0.193 -0.134 ...\n",
      " $ counts      : Named int [1:2] 2 1\n",
      "  ..- attr(*, \"names\")= chr [1:2] \"function\" \"gradient\"\n",
      " $ patterns    :List of 2\n",
      "  ..$ X  : num [1:12, 1:5] 0 0 0 0 1 1 1 1 1 1 ...\n",
      "  ..$ obs: int [1:12] 2 1 1 1 3 1 1 2 2 1 ...\n",
      " $ GH          :List of 2\n",
      "  ..$ Z  : num [1:21, 1:2] 1 1 1 1 1 1 1 1 1 1 ...\n",
      "  ..$ GHw: num [1:21] 2.10e-14 4.98e-11 1.45e-08 1.23e-06 4.22e-05 ...\n",
      " $ max.sc      : num 0.000346\n",
      " $ ltst        :List of 5\n",
      "  ..$ factors: int 1\n",
      "  ..$ inter  : logi FALSE\n",
      "  ..$ quad.z1: logi FALSE\n",
      "  ..$ quad.z2: logi FALSE\n",
      "  ..$ nams   : chr [1:2] \"(Intercept)\" \"z1\"\n",
      " $ X           :'data.frame':\t20 obs. of  5 variables:\n",
      "  ..$ A: int [1:20] 0 0 0 1 1 1 1 1 1 0 ...\n",
      "  ..$ B: int [1:20] 0 0 0 0 0 0 1 1 0 1 ...\n",
      "  ..$ C: int [1:20] 0 0 0 0 1 0 0 1 0 1 ...\n",
      "  ..$ D: int [1:20] 0 0 1 0 1 0 0 1 0 0 ...\n",
      "  ..$ E: int [1:20] 0 0 0 0 0 0 0 0 0 0 ...\n",
      " $ control     :List of 6\n",
      "  ..$ iter.em : num 40\n",
      "  ..$ iter.qN : num 150\n",
      "  ..$ GHk     : num 21\n",
      "  ..$ method  : chr \"BFGS\"\n",
      "  ..$ parscale: NULL\n",
      "  ..$ verbose : logi FALSE\n",
      " $ IRT.param   : logi TRUE\n",
      " $ formula     :Class 'formula' length 3 csvdata ~ z1\n",
      "  .. ..- attr(*, \".Environment\")=<environment: R_GlobalEnv> \n",
      " $ call        : language ltm(formula = csvdata ~ z1, IRT.param = TRUE)\n",
      " - attr(*, \"class\")= chr \"ltm\"\n"
     ]
    }
   ],
   "source": [
    "str(result)\n"
   ]
  },
  {
   "cell_type": "code",
   "execution_count": 118,
   "metadata": {
    "collapsed": false
   },
   "outputs": [
    {
     "data": {
      "text/html": [
       "<table>\n",
       "<thead><tr><th></th><th scope=col>(Intercept)</th><th scope=col>z1</th></tr></thead>\n",
       "<tbody>\n",
       "\t<tr><th scope=row>A</th><td>1.430019</td><td>1.215814</td></tr>\n",
       "\t<tr><th scope=row>B</th><td>0.6164858</td><td>1.5742688</td></tr>\n",
       "\t<tr><th scope=row>C</th><td> 0.8940602</td><td>16.8993942</td></tr>\n",
       "\t<tr><th scope=row>D</th><td>-0.2354762</td><td> 1.1696718</td></tr>\n",
       "\t<tr><th scope=row>E</th><td>-1.368762</td><td> 1.181162</td></tr>\n",
       "</tbody>\n",
       "</table>\n"
      ],
      "text/latex": [
       "\\begin{tabular}{r|ll}\n",
       "  & (Intercept) & z1\\\\\n",
       "\\hline\n",
       "\tA & 1.430019 & 1.215814\\\\\n",
       "\tB & 0.6164858 & 1.5742688\\\\\n",
       "\tC &  0.8940602 & 16.8993942\\\\\n",
       "\tD & -0.2354762 &  1.1696718\\\\\n",
       "\tE & -1.368762 &  1.181162\\\\\n",
       "\\end{tabular}\n"
      ],
      "text/markdown": [
       "1. 1.43001922682034\n",
       "2. 0.616485753467014\n",
       "3. 0.894060199414649\n",
       "4. -0.235476211241121\n",
       "5. -1.36876237236943\n",
       "6. 1.2158137738705\n",
       "7. 1.57426875036419\n",
       "8. 16.8993942244502\n",
       "9. 1.16967183728793\n",
       "10. 1.18116242017197\n",
       "\n",
       "\n"
      ],
      "text/plain": [
       "  (Intercept)        z1\n",
       "A   1.4300192  1.215814\n",
       "B   0.6164858  1.574269\n",
       "C   0.8940602 16.899394\n",
       "D  -0.2354762  1.169672\n",
       "E  -1.3687624  1.181162"
      ]
     },
     "execution_count": 118,
     "metadata": {},
     "output_type": "execute_result"
    }
   ],
   "source": [
    "result$coefficients"
   ]
  },
  {
   "cell_type": "code",
   "execution_count": 144,
   "metadata": {
    "collapsed": true
   },
   "outputs": [],
   "source": [
    "library(rCharts)\n",
    "library(ltm)"
   ]
  },
  {
   "cell_type": "code",
   "execution_count": 145,
   "metadata": {
    "collapsed": true
   },
   "outputs": [],
   "source": [
    "csvdata <- read.csv('~/IrtWeb/irt_sample.csv', header = TRUE)"
   ]
  },
  {
   "cell_type": "code",
   "execution_count": 132,
   "metadata": {
    "collapsed": true
   },
   "outputs": [],
   "source": [
    "result <- ltm(csvdata~z1, IRT.param = TRUE)"
   ]
  },
  {
   "cell_type": "code",
   "execution_count": 133,
   "metadata": {
    "collapsed": true
   },
   "outputs": [],
   "source": [
    "coef0 <- result$coefficient\n",
    "coef1 <- summary(result)$coefficients"
   ]
  },
  {
   "cell_type": "code",
   "execution_count": 136,
   "metadata": {
    "collapsed": false
   },
   "outputs": [],
   "source": [
    "valsize = length(dimnames(coef0)[[1]])"
   ]
  },
  {
   "cell_type": "code",
   "execution_count": 143,
   "metadata": {
    "collapsed": false
   },
   "outputs": [],
   "source": [
    "model2pl <- function(x, a, b) {\n",
    "    return (1.0 / (1.0 + exp(-1.701 * a * (x - b))))\n",
    "}"
   ]
  },
  {
   "cell_type": "code",
   "execution_count": 141,
   "metadata": {
    "collapsed": true
   },
   "outputs": [],
   "source": [
    "data <- data.frame()\n",
    "xdata <- seq(-4.0, 4.01, by=0.1)\n",
    "for (i in 1:valsize) {\n",
    "    ydata_tmp <- model2pl(xdata, a=coef0[i, 2], b=coef1[i, 1])\n",
    "    data_tmp <- data.frame(type=rep(dimnames(coef0)[[1]][i], length=81), x=xdata, y=ydata_tmp)\n",
    "    data <- rbind(data, data_tmp)\n",
    "}"
   ]
  },
  {
   "cell_type": "code",
   "execution_count": 142,
   "metadata": {
    "collapsed": true
   },
   "outputs": [],
   "source": [
    "p <- hPlot(y~x, group=\"type\", data=data, type = 'line', title = '項目特性曲線', subtitle = 'Item Characteristic Curves')\n",
    "p$chart(zoomType = \"xy\")\n",
    "p$exporting(enabled = T)\n",
    "p$xAxis(title = list(text = \"Ability\"), min = -4.0, max = 4.0, gridLineWidth = 1)\n",
    "p$yAxis(title = list(text = \"Probability\"), min = 0.0, max = 1.0, gridLineWidth = 1)\n",
    "p$plotOptions(line = list(marker = list(enabled = F)))\n",
    "p$legend(align = 'right', verticalAlign = 'bottom', layout = 'vertical')\n",
    "p$show()"
   ]
  },
  {
   "cell_type": "markdown",
   "metadata": {},
   "source": [
    "rCharts 利用の際にはライブラリ読み込みを行う。"
   ]
  },
  {
   "cell_type": "code",
   "execution_count": 18,
   "metadata": {
    "collapsed": false
   },
   "outputs": [],
   "source": [
    "require(\"rCharts\")"
   ]
  },
  {
   "cell_type": "markdown",
   "metadata": {},
   "source": [
    "sin曲線と cos曲線をグラフに表示することを目標とする。\n",
    "それぞれのデータを作成するために、まず x 座標の数列を作成して変数 xdata に入れるとともに、\n",
    "その個数を変数 nsize に入れる。"
   ]
  },
  {
   "cell_type": "code",
   "execution_count": 19,
   "metadata": {
    "collapsed": false
   },
   "outputs": [],
   "source": [
    "xdata <- seq(-1.0, 7.01, by=0.1)\n",
    "nsize <- length(xdata)"
   ]
  },
  {
   "cell_type": "markdown",
   "metadata": {},
   "source": [
    "x の値を示す数列データ xdata のそれぞれの値に対応する sin(x) の値でできた数列データを sindata, xdata のそれぞれの値に対応する cos(x) の値でできた数列データを cosdata とする。"
   ]
  },
  {
   "cell_type": "code",
   "execution_count": 20,
   "metadata": {
    "collapsed": true
   },
   "outputs": [],
   "source": [
    "sindata <- sin(xdata)\n",
    "cosdata <- cos(xdata)"
   ]
  },
  {
   "cell_type": "markdown",
   "metadata": {},
   "source": [
    "sin曲線上の (x, y) の値 nsize 組、cos曲線上の (x, y) の値 nsize 組、そして、それぞれの前に sin データか cos データかを示すラベルをつけ、結合させたデータフレームを作成する。\n",
    "\n",
    "| type  |  x  |  y  |\n",
    "| ----  | ---- | ----- |\n",
    "| \"sin\" | -1.0 | -0.345 |\n",
    "|   :   |   :   |  :  |\n",
    "| \"cos\" |   0   |  1  |\n",
    "|   :   |   :   |  :  |\n"
   ]
  },
  {
   "cell_type": "code",
   "execution_count": 21,
   "metadata": {
    "collapsed": false
   },
   "outputs": [],
   "source": [
    "data <- rbind( data.frame(type=rep(\"sin\", nsize), x = xdata, y = sindata),\n",
    "              data.frame(type=rep(\"cos\", nsize), x = xdata, y = cosdata) )"
   ]
  },
  {
   "cell_type": "markdown",
   "metadata": {},
   "source": [
    "データフレーム data の x, y を、HighCharts によってグラフ化する。\n",
    "各種の詳細設定を指定は、HighCharts での Javascript の形式を下記のように書き換えて指定する。"
   ]
  },
  {
   "cell_type": "code",
   "execution_count": 26,
   "metadata": {
    "collapsed": false
   },
   "outputs": [],
   "source": [
    "p <- hPlot(y~x, group=\"type\", data=data, type = 'line', title = '三角関数', subtitle = 'rCharts/HighCharts Demo')\n",
    "p$chart(zoomType = \"xy\")\n",
    "p$exporting(enabled = T)\n",
    "p$xAxis(title = list(text = \"x\"), min = -1.0, max = 7.0, gridLineWidth = 1)\n",
    "p$yAxis(title = list(text = \"y = sin(x), y = cos(x)\"), min = -1.2, max = 1.2, gridLineWidth = 1)\n",
    "p$plotOptions(line = list(marker = list(enabled = F), enableMouseTracking = F))\n",
    "p$legend(align = 'right', verticalAlign = 'middle', layout = 'vertical')\n",
    "p$show()"
   ]
  },
  {
   "cell_type": "code",
   "execution_count": null,
   "metadata": {
    "collapsed": true
   },
   "outputs": [],
   "source": []
  }
 ],
 "metadata": {
  "kernelspec": {
   "display_name": "R",
   "language": "R",
   "name": "ir"
  },
  "language_info": {
   "codemirror_mode": "r",
   "file_extension": ".r",
   "mimetype": "text/x-r-source",
   "name": "R",
   "pygments_lexer": "r",
   "version": "3.2.3"
  }
 },
 "nbformat": 4,
 "nbformat_minor": 0
}

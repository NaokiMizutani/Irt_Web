{
 "cells": [
  {
   "cell_type": "markdown",
   "metadata": {},
   "source": [
    "## ライブラリ rCharts を使った javascript グラフ作成\n",
    "\n",
    "ライブラリ rCharts を使うと、R から比較的容易に javascript のグラフを作成することが可能になる。"
   ]
  },
  {
   "cell_type": "code",
   "execution_count": 1,
   "metadata": {
    "collapsed": false
   },
   "outputs": [
    {
     "name": "stderr",
     "output_type": "stream",
     "text": [
      "Loading required package: MASS\n",
      "Loading required package: msm\n",
      "Loading required package: polycor\n",
      "Loading required package: mvtnorm\n",
      "Loading required package: sfsmisc\n"
     ]
    }
   ],
   "source": [
    "library(rCharts)\n",
    "library(ltm)"
   ]
  },
  {
   "cell_type": "code",
   "execution_count": 4,
   "metadata": {
    "collapsed": true
   },
   "outputs": [],
   "source": [
    "csvdata <- read.csv('~/IrtWeb/irt_sample.csv', header = TRUE)"
   ]
  },
  {
   "cell_type": "code",
   "execution_count": 7,
   "metadata": {
    "collapsed": true
   },
   "outputs": [],
   "source": [
    "result <- ltm(csvdata~z1, IRT.param = TRUE)"
   ]
  },
  {
   "cell_type": "markdown",
   "metadata": {},
   "source": [
    "ltm パッケージを使って、IRT 分析を行い、その結果から種々のパラメータを抜き出す。\n",
    "\n",
    "* 項目数： valsize  \n",
    "* 項目名： item_names  \n",
    "* 項目ごとの識別度 : a  \n",
    "* 項目ごとの困難度 : b  "
   ]
  },
  {
   "cell_type": "code",
   "execution_count": 36,
   "metadata": {
    "collapsed": true
   },
   "outputs": [],
   "source": [
    "valsize <- dim(csvdata)[2]"
   ]
  },
  {
   "cell_type": "code",
   "execution_count": 34,
   "metadata": {
    "collapsed": false
   },
   "outputs": [
    {
     "name": "stdout",
     "output_type": "stream",
     "text": [
      "[1] \"A\" \"B\" \"C\" \"D\" \"E\"\n",
      "        A         B         C         D         E \n",
      " 1.215814  1.574269 16.899394  1.169672  1.181162 \n",
      "   Dffclt.A    Dffclt.B    Dffclt.C    Dffclt.D    Dffclt.E \n",
      "-1.17618278 -0.39160134 -0.05290487  0.20131818  1.15882655 \n"
     ]
    }
   ],
   "source": [
    "a <- result$coefficient[,2]\n",
    "b <- summary(result)$coefficients[,1][1:valsize]\n",
    "item_names <- rownames(result$coefficient)\n",
    "\n",
    "print(item_names)\n",
    "print(a)\n",
    "print(b)"
   ]
  },
  {
   "cell_type": "markdown",
   "metadata": {},
   "source": [
    "IRT における 2PL モデルに基づく確率関数を設定"
   ]
  },
  {
   "cell_type": "code",
   "execution_count": 13,
   "metadata": {
    "collapsed": true
   },
   "outputs": [],
   "source": [
    "model2pl <- function(x, a, b) {\n",
    "    return (1.0 / (1.0 + exp(-1.701 * a * (x - b))))\n",
    "}"
   ]
  },
  {
   "cell_type": "markdown",
   "metadata": {},
   "source": [
    "ICCを描くために、項目ごとに(x, y) のデータを作成する。x の値として、 -4 から 4 までの範囲で 0.1 刻みのデータを xdata として用意する。\n",
    "\n",
    "項目それぞれに対して、xdata の値における上記モデルの p の値を求める。\n",
    "グラフ作成関数の入力として使えるようにデータ構造を設定する。\n",
    "項目ごとに（項目名, x値, y値）を作成し、列方向にすべての項目をつなげて作る。"
   ]
  },
  {
   "cell_type": "code",
   "execution_count": 40,
   "metadata": {
    "collapsed": false
   },
   "outputs": [],
   "source": [
    "data <- data.frame()\n",
    "xdata <- seq(-4.0, 4.01, by=0.1)\n",
    "for (i in 1:valsize) {\n",
    "    ydata_tmp <- model2pl(xdata, a[i], b[i])\n",
    "    data_tmp <- data.frame(type=rep(item_names[i], length(xdata)), x=xdata, y=ydata_tmp)\n",
    "    data <- rbind(data, data_tmp)\n",
    "}"
   ]
  },
  {
   "cell_type": "markdown",
   "metadata": {},
   "source": [
    "Javascript グラフ作成パッケージとしてはいくつかの選択肢があり、その中で HighCharts を駆動する例を示す。\n",
    "hPlot() 関数でグラフオブジェクトを作成し、その属性を各種設定していく。\n",
    "$show() 関数で画面に表示されるが、$print() 関数を起動すると生成された HTML/Javascript が示される。"
   ]
  },
  {
   "cell_type": "code",
   "execution_count": 48,
   "metadata": {
    "collapsed": true
   },
   "outputs": [],
   "source": [
    "p <- hPlot(y~x, group=\"type\", data=data, type = 'line', title = '項目特性曲線', subtitle = 'Item Characteristic Curves')\n",
    "p$chart(zoomType = \"xy\")\n",
    "p$exporting(enabled = T)\n",
    "p$xAxis(title = list(text = \"Ability\"), min = -4.0, max = 4.0, gridLineWidth = 1)\n",
    "p$yAxis(title = list(text = \"Probability\"), min = 0.0, max = 1.0, gridLineWidth = 1)\n",
    "p$plotOptions(line = list(marker = list(enabled = F)))\n",
    "p$legend(align = 'right', verticalAlign = 'bottom', layout = 'vertical')\n",
    "p$show()"
   ]
  }
 ],
 "metadata": {
  "kernelspec": {
   "display_name": "R",
   "language": "R",
   "name": "ir"
  },
  "language_info": {
   "codemirror_mode": "r",
   "file_extension": ".r",
   "mimetype": "text/x-r-source",
   "name": "R",
   "pygments_lexer": "r",
   "version": "3.2.3"
  }
 },
 "nbformat": 4,
 "nbformat_minor": 0
}

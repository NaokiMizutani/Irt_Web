{
 "cells": [
  {
   "cell_type": "markdown",
   "metadata": {},
   "source": [
    "## IRT で計算される数値を取り込む方法\n",
    "\n",
    " IRT では、項目ごとの識別パラメータと困難度パラメータが得られるとともに、各受験者の特性を示す能力パラメータが得られる。ここでは、2PLモデルに基づく各種パラメータが、R の ltm パッケージにより計算された後に、それらのパラメータをプログラムで利用な形で得る方法についてまとめる。"
   ]
  },
  {
   "cell_type": "markdown",
   "metadata": {},
   "source": [
    "### IRT 分析のためのライブラリ (ltm) の読み込み"
   ]
  },
  {
   "cell_type": "code",
   "execution_count": 1,
   "metadata": {
    "collapsed": false
   },
   "outputs": [
    {
     "name": "stderr",
     "output_type": "stream",
     "text": [
      "Loading required package: ltm\n",
      "Loading required package: MASS\n",
      "Loading required package: msm\n",
      "Loading required package: polycor\n",
      "Loading required package: mvtnorm\n",
      "Loading required package: sfsmisc\n"
     ]
    }
   ],
   "source": [
    "require(ltm)"
   ]
  },
  {
   "cell_type": "markdown",
   "metadata": {},
   "source": [
    "### データファイルの読み込みと分析\n",
    "\n",
    "CSV形式のデータファイルを読み込み、データを格納するとともに、IRTの分析を行う。\n",
    "\n",
    "* data : 読み込んだデータ  \n",
    "* result : ltm による分析結果  \n",
    "* result_summary : ltm による分析結果のサマリー形式  \n",
    "* result_score : factor.scores() による各受験者の能力値の結果  "
   ]
  },
  {
   "cell_type": "code",
   "execution_count": 2,
   "metadata": {
    "collapsed": true
   },
   "outputs": [],
   "source": [
    "data <- read.csv('~/IrtWeb/irt_sample.csv', header=TRUE)\n",
    "\n",
    "result <- ltm(data~z1, IRT.param=TRUE)\n",
    "result_summary <- summary(result)\n",
    "result_score <- factor.scores(result, resp.pattern=data)"
   ]
  },
  {
   "cell_type": "markdown",
   "metadata": {},
   "source": [
    "### ltm の結果から識別度を得る\n",
    "\n",
    "result の中に、困難度、識別度が入っていることがわかる。"
   ]
  },
  {
   "cell_type": "code",
   "execution_count": 3,
   "metadata": {
    "collapsed": false
   },
   "outputs": [
    {
     "data": {
      "text/plain": [
       "\n",
       "Call:\n",
       "ltm(formula = data ~ z1, IRT.param = TRUE)\n",
       "\n",
       "Coefficients:\n",
       "   Dffclt  Dscrmn\n",
       "A  -1.176   1.216\n",
       "B  -0.392   1.574\n",
       "C  -0.053  16.899\n",
       "D   0.201   1.170\n",
       "E   1.159   1.181\n",
       "\n",
       "Log.Lik: -56.733\n"
      ]
     },
     "execution_count": 3,
     "metadata": {},
     "output_type": "execute_result"
    }
   ],
   "source": [
    "result"
   ]
  },
  {
   "cell_type": "markdown",
   "metadata": {},
   "source": [
    "上の表 および str(result) の結果から、困難度および識別度は、result の中の coefficients に入っていそうである。"
   ]
  },
  {
   "cell_type": "code",
   "execution_count": 4,
   "metadata": {
    "collapsed": false
   },
   "outputs": [
    {
     "name": "stdout",
     "output_type": "stream",
     "text": [
      "List of 14\n",
      " $ coefficients: num [1:5, 1:2] 1.43 0.616 0.894 -0.235 -1.369 ...\n",
      "  ..- attr(*, \"dimnames\")=List of 2\n",
      "  .. ..$ : chr [1:5] \"A\" \"B\" \"C\" \"D\" ...\n",
      "  .. ..$ : chr [1:2] \"(Intercept)\" \"z1\"\n",
      " $ log.Lik     : num -56.7\n",
      " $ convergence : int 0\n",
      " $ hessian     : num [1:10, 1:10] 2.786 -0.247 -0.232 -0.193 -0.134 ...\n",
      " $ counts      : Named int [1:2] 2 1\n",
      "  ..- attr(*, \"names\")= chr [1:2] \"function\" \"gradient\"\n",
      " $ patterns    :List of 2\n",
      "  ..$ X  : num [1:12, 1:5] 0 0 0 0 1 1 1 1 1 1 ...\n",
      "  ..$ obs: int [1:12] 2 1 1 1 3 1 1 2 2 1 ...\n",
      " $ GH          :List of 2\n",
      "  ..$ Z  : num [1:21, 1:2] 1 1 1 1 1 1 1 1 1 1 ...\n",
      "  ..$ GHw: num [1:21] 2.10e-14 4.98e-11 1.45e-08 1.23e-06 4.22e-05 ...\n",
      " $ max.sc      : num 0.000346\n",
      " $ ltst        :List of 5\n",
      "  ..$ factors: int 1\n",
      "  ..$ inter  : logi FALSE\n",
      "  ..$ quad.z1: logi FALSE\n",
      "  ..$ quad.z2: logi FALSE\n",
      "  ..$ nams   : chr [1:2] \"(Intercept)\" \"z1\"\n",
      " $ X           :'data.frame':\t20 obs. of  5 variables:\n",
      "  ..$ A: int [1:20] 0 0 0 1 1 1 1 1 1 0 ...\n",
      "  ..$ B: int [1:20] 0 0 0 0 0 0 1 1 0 1 ...\n",
      "  ..$ C: int [1:20] 0 0 0 0 1 0 0 1 0 1 ...\n",
      "  ..$ D: int [1:20] 0 0 1 0 1 0 0 1 0 0 ...\n",
      "  ..$ E: int [1:20] 0 0 0 0 0 0 0 0 0 0 ...\n",
      " $ control     :List of 6\n",
      "  ..$ iter.em : num 40\n",
      "  ..$ iter.qN : num 150\n",
      "  ..$ GHk     : num 21\n",
      "  ..$ method  : chr \"BFGS\"\n",
      "  ..$ parscale: NULL\n",
      "  ..$ verbose : logi FALSE\n",
      " $ IRT.param   : logi TRUE\n",
      " $ formula     :Class 'formula' length 3 data ~ z1\n",
      "  .. ..- attr(*, \".Environment\")=<environment: R_GlobalEnv> \n",
      " $ call        : language ltm(formula = data ~ z1, IRT.param = TRUE)\n",
      " - attr(*, \"class\")= chr \"ltm\"\n"
     ]
    }
   ],
   "source": [
    "str(result)"
   ]
  },
  {
   "cell_type": "markdown",
   "metadata": {},
   "source": [
    "result$coefficients でアクセスしたところ、識別度 (z1) は入手できるが、困難度とセットになっていない（表示されている Intercept の値は困難度ではない）。"
   ]
  },
  {
   "cell_type": "code",
   "execution_count": 5,
   "metadata": {
    "collapsed": false
   },
   "outputs": [
    {
     "data": {
      "text/html": [
       "<table>\n",
       "<thead><tr><th></th><th scope=col>(Intercept)</th><th scope=col>z1</th></tr></thead>\n",
       "<tbody>\n",
       "\t<tr><th scope=row>A</th><td>1.430019</td><td>1.215814</td></tr>\n",
       "\t<tr><th scope=row>B</th><td>0.6164858</td><td>1.5742688</td></tr>\n",
       "\t<tr><th scope=row>C</th><td> 0.8940602</td><td>16.8993942</td></tr>\n",
       "\t<tr><th scope=row>D</th><td>-0.2354762</td><td> 1.1696718</td></tr>\n",
       "\t<tr><th scope=row>E</th><td>-1.368762</td><td> 1.181162</td></tr>\n",
       "</tbody>\n",
       "</table>\n"
      ],
      "text/latex": [
       "\\begin{tabular}{r|ll}\n",
       "  & (Intercept) & z1\\\\\n",
       "\\hline\n",
       "\tA & 1.430019 & 1.215814\\\\\n",
       "\tB & 0.6164858 & 1.5742688\\\\\n",
       "\tC &  0.8940602 & 16.8993942\\\\\n",
       "\tD & -0.2354762 &  1.1696718\\\\\n",
       "\tE & -1.368762 &  1.181162\\\\\n",
       "\\end{tabular}\n"
      ],
      "text/markdown": [
       "1. 1.43001922682034\n",
       "2. 0.616485753467014\n",
       "3. 0.894060199414649\n",
       "4. -0.235476211241121\n",
       "5. -1.36876237236943\n",
       "6. 1.2158137738705\n",
       "7. 1.57426875036419\n",
       "8. 16.8993942244502\n",
       "9. 1.16967183728793\n",
       "10. 1.18116242017197\n",
       "\n",
       "\n"
      ],
      "text/plain": [
       "  (Intercept)        z1\n",
       "A   1.4300192  1.215814\n",
       "B   0.6164858  1.574269\n",
       "C   0.8940602 16.899394\n",
       "D  -0.2354762  1.169672\n",
       "E  -1.3687624  1.181162"
      ]
     },
     "execution_count": 5,
     "metadata": {},
     "output_type": "execute_result"
    }
   ],
   "source": [
    "result$coefficients"
   ]
  },
  {
   "cell_type": "code",
   "execution_count": 6,
   "metadata": {
    "collapsed": false
   },
   "outputs": [
    {
     "data": {
      "text/html": [
       "<dl class=dl-horizontal>\n",
       "\t<dt>A</dt>\n",
       "\t\t<dd>1.2158137738705</dd>\n",
       "\t<dt>B</dt>\n",
       "\t\t<dd>1.57426875036419</dd>\n",
       "\t<dt>C</dt>\n",
       "\t\t<dd>16.8993942244502</dd>\n",
       "\t<dt>D</dt>\n",
       "\t\t<dd>1.16967183728793</dd>\n",
       "\t<dt>E</dt>\n",
       "\t\t<dd>1.18116242017197</dd>\n",
       "</dl>\n"
      ],
      "text/latex": [
       "\\begin{description*}\n",
       "\\item[A] 1.2158137738705\n",
       "\\item[B] 1.57426875036419\n",
       "\\item[C] 16.8993942244502\n",
       "\\item[D] 1.16967183728793\n",
       "\\item[E] 1.18116242017197\n",
       "\\end{description*}\n"
      ],
      "text/markdown": [
       "A\n",
       ":   1.2158137738705B\n",
       ":   1.57426875036419C\n",
       ":   16.8993942244502D\n",
       ":   1.16967183728793E\n",
       ":   1.18116242017197\n",
       "\n"
      ],
      "text/plain": [
       "        A         B         C         D         E \n",
       " 1.215814  1.574269 16.899394  1.169672  1.181162 "
      ]
     },
     "execution_count": 6,
     "metadata": {},
     "output_type": "execute_result"
    }
   ],
   "source": [
    "result$coefficient[,2]"
   ]
  },
  {
   "cell_type": "markdown",
   "metadata": {},
   "source": [
    "識別度だけは入手できるので、変数 a に入れておく。"
   ]
  },
  {
   "cell_type": "code",
   "execution_count": 7,
   "metadata": {
    "collapsed": true
   },
   "outputs": [],
   "source": [
    "a <- result$coefficient[,2]"
   ]
  },
  {
   "cell_type": "markdown",
   "metadata": {},
   "source": [
    "また、項目名、そして項目数を入手しておく。"
   ]
  },
  {
   "cell_type": "code",
   "execution_count": 31,
   "metadata": {
    "collapsed": false
   },
   "outputs": [],
   "source": [
    "item_names <- rownames(result$coefficient)\n",
    "nitem <- length(item_names)"
   ]
  },
  {
   "cell_type": "code",
   "execution_count": 32,
   "metadata": {
    "collapsed": false
   },
   "outputs": [
    {
     "name": "stdout",
     "output_type": "stream",
     "text": [
      "[1] 5\n",
      "[1] \"A\" \"B\" \"C\" \"D\" \"E\"\n",
      "        A         B         C         D         E \n",
      " 1.215814  1.574269 16.899394  1.169672  1.181162 \n"
     ]
    }
   ],
   "source": [
    "print(nitem)\n",
    "print(item_names)\n",
    "print(a)"
   ]
  },
  {
   "cell_type": "markdown",
   "metadata": {},
   "source": [
    "### ltm の結果から困難度を得る\n",
    "\n",
    "summary 情報から困難度を得ることを考える。"
   ]
  },
  {
   "cell_type": "code",
   "execution_count": 21,
   "metadata": {
    "collapsed": false
   },
   "outputs": [
    {
     "data": {
      "text/plain": [
       "\n",
       "Call:\n",
       "ltm(formula = data ~ z1, IRT.param = TRUE)\n",
       "\n",
       "Model Summary:\n",
       "   log.Lik      AIC      BIC\n",
       " -56.73256 133.4651 143.4224\n",
       "\n",
       "Coefficients:\n",
       "           value  std.err  z.vals\n",
       "Dffclt.A -1.1762   0.7697 -1.5281\n",
       "Dffclt.B -0.3916   0.4449 -0.8801\n",
       "Dffclt.C -0.0529   0.8234 -0.0642\n",
       "Dffclt.D  0.2013   0.5044  0.3991\n",
       "Dffclt.E  1.1588   0.8258  1.4034\n",
       "Dscrmn.A  1.2158   0.9136  1.3308\n",
       "Dscrmn.B  1.5743   1.0456  1.5056\n",
       "Dscrmn.C 16.8994 260.5850  0.0649\n",
       "Dscrmn.D  1.1697   0.8446  1.3849\n",
       "Dscrmn.E  1.1812   0.9753  1.2111\n",
       "\n",
       "Integration:\n",
       "method: Gauss-Hermite\n",
       "quadrature points: 21 \n",
       "\n",
       "Optimization:\n",
       "Convergence: 0 \n",
       "max(|grad|): 0.00035 \n",
       "quasi-Newton: BFGS \n"
      ]
     },
     "execution_count": 21,
     "metadata": {},
     "output_type": "execute_result"
    }
   ],
   "source": [
    "result_summary"
   ]
  },
  {
   "cell_type": "markdown",
   "metadata": {},
   "source": [
    "識別度、困難度が表になっており、 $coefficients でアクセスしてみる。"
   ]
  },
  {
   "cell_type": "code",
   "execution_count": 22,
   "metadata": {
    "collapsed": false
   },
   "outputs": [
    {
     "data": {
      "text/html": [
       "<table>\n",
       "<thead><tr><th></th><th scope=col>value</th><th scope=col>std.err</th><th scope=col>z.vals</th></tr></thead>\n",
       "<tbody>\n",
       "\t<tr><th scope=row>Dffclt.A</th><td>-1.1761828</td><td> 0.7697059</td><td>-1.5280937</td></tr>\n",
       "\t<tr><th scope=row>Dffclt.B</th><td>-0.3916013</td><td> 0.4449440</td><td>-0.8801138</td></tr>\n",
       "\t<tr><th scope=row>Dffclt.C</th><td>-0.05290487</td><td> 0.82343727</td><td>-0.06424881</td></tr>\n",
       "\t<tr><th scope=row>Dffclt.D</th><td>0.2013182</td><td>0.5043902</td><td>0.3991319</td></tr>\n",
       "\t<tr><th scope=row>Dffclt.E</th><td>1.1588266</td><td>0.8257548</td><td>1.4033543</td></tr>\n",
       "\t<tr><th scope=row>Dscrmn.A</th><td>1.2158138</td><td>0.9135998</td><td>1.3307947</td></tr>\n",
       "\t<tr><th scope=row>Dscrmn.B</th><td>1.574269</td><td>1.045622</td><td>1.505581</td></tr>\n",
       "\t<tr><th scope=row>Dscrmn.C</th><td> 16.89939422</td><td>260.58495015</td><td>  0.06485177</td></tr>\n",
       "\t<tr><th scope=row>Dscrmn.D</th><td>1.1696718</td><td>0.8445942</td><td>1.3848921</td></tr>\n",
       "\t<tr><th scope=row>Dscrmn.E</th><td>1.1811624</td><td>0.9752508</td><td>1.2111371</td></tr>\n",
       "</tbody>\n",
       "</table>\n"
      ],
      "text/latex": [
       "\\begin{tabular}{r|lll}\n",
       "  & value & std.err & z.vals\\\\\n",
       "\\hline\n",
       "\tDffclt.A & -1.1761828 &  0.7697059 & -1.5280937\\\\\n",
       "\tDffclt.B & -0.3916013 &  0.4449440 & -0.8801138\\\\\n",
       "\tDffclt.C & -0.05290487 &  0.82343727 & -0.06424881\\\\\n",
       "\tDffclt.D & 0.2013182 & 0.5043902 & 0.3991319\\\\\n",
       "\tDffclt.E & 1.1588266 & 0.8257548 & 1.4033543\\\\\n",
       "\tDscrmn.A & 1.2158138 & 0.9135998 & 1.3307947\\\\\n",
       "\tDscrmn.B & 1.574269 & 1.045622 & 1.505581\\\\\n",
       "\tDscrmn.C &  16.89939422 & 260.58495015 &   0.06485177\\\\\n",
       "\tDscrmn.D & 1.1696718 & 0.8445942 & 1.3848921\\\\\n",
       "\tDscrmn.E & 1.1811624 & 0.9752508 & 1.2111371\\\\\n",
       "\\end{tabular}\n"
      ],
      "text/markdown": [
       "1. -1.17618278189754\n",
       "2. -0.391601340828493\n",
       "3. -0.0529048667390167\n",
       "4. 0.201318184925364\n",
       "5. 1.15882655001007\n",
       "6. 1.2158137738705\n",
       "7. 1.57426875036419\n",
       "8. 16.8993942244502\n",
       "9. 1.16967183728793\n",
       "10. 1.18116242017197\n",
       "11. 0.769705910721895\n",
       "12. 0.444943985608773\n",
       "13. 0.823437267806331\n",
       "14. 0.504390173643303\n",
       "15. 0.82575481516926\n",
       "16. 0.913599813253691\n",
       "17. 1.04562218561719\n",
       "18. 260.584950153147\n",
       "19. 0.844594207562294\n",
       "20. 0.975250802569501\n",
       "21. -1.52809373750867\n",
       "22. -0.880113797454085\n",
       "23. -0.0642488126387058\n",
       "24. 0.399131853563295\n",
       "25. 1.40335427504899\n",
       "26. 1.33079468300295\n",
       "27. 1.50558086086799\n",
       "28. 0.0648517660537127\n",
       "29. 1.38489208997051\n",
       "30. 1.2111370911564\n",
       "\n",
       "\n"
      ],
      "text/plain": [
       "               value     std.err      z.vals\n",
       "Dffclt.A -1.17618278   0.7697059 -1.52809374\n",
       "Dffclt.B -0.39160134   0.4449440 -0.88011380\n",
       "Dffclt.C -0.05290487   0.8234373 -0.06424881\n",
       "Dffclt.D  0.20131818   0.5043902  0.39913185\n",
       "Dffclt.E  1.15882655   0.8257548  1.40335428\n",
       "Dscrmn.A  1.21581377   0.9135998  1.33079468\n",
       "Dscrmn.B  1.57426875   1.0456222  1.50558086\n",
       "Dscrmn.C 16.89939422 260.5849502  0.06485177\n",
       "Dscrmn.D  1.16967184   0.8445942  1.38489209\n",
       "Dscrmn.E  1.18116242   0.9752508  1.21113709"
      ]
     },
     "execution_count": 22,
     "metadata": {},
     "output_type": "execute_result"
    }
   ],
   "source": [
    "result_summary$coefficients"
   ]
  },
  {
   "cell_type": "markdown",
   "metadata": {},
   "source": [
    "ここから、識別度、困難度を入手できそうである。ひとまず、困難度を変数 b に入れる。\n",
    "\n",
    "表は１列目（value のところ）に、困難度と識別度が連続しているので、１行目から項目数だけ取り出すと困難度だけが入手できるはずである。"
   ]
  },
  {
   "cell_type": "code",
   "execution_count": 33,
   "metadata": {
    "collapsed": false
   },
   "outputs": [
    {
     "data": {
      "text/html": [
       "<dl class=dl-horizontal>\n",
       "\t<dt>Dffclt.A</dt>\n",
       "\t\t<dd>-1.17618278189754</dd>\n",
       "\t<dt>Dffclt.B</dt>\n",
       "\t\t<dd>-0.391601340828493</dd>\n",
       "\t<dt>Dffclt.C</dt>\n",
       "\t\t<dd>-0.0529048667390167</dd>\n",
       "\t<dt>Dffclt.D</dt>\n",
       "\t\t<dd>0.201318184925364</dd>\n",
       "\t<dt>Dffclt.E</dt>\n",
       "\t\t<dd>1.15882655001007</dd>\n",
       "</dl>\n"
      ],
      "text/latex": [
       "\\begin{description*}\n",
       "\\item[Dffclt.A] -1.17618278189754\n",
       "\\item[Dffclt.B] -0.391601340828493\n",
       "\\item[Dffclt.C] -0.0529048667390167\n",
       "\\item[Dffclt.D] 0.201318184925364\n",
       "\\item[Dffclt.E] 1.15882655001007\n",
       "\\end{description*}\n"
      ],
      "text/markdown": [
       "Dffclt.A\n",
       ":   -1.17618278189754Dffclt.B\n",
       ":   -0.391601340828493Dffclt.C\n",
       ":   -0.0529048667390167Dffclt.D\n",
       ":   0.201318184925364Dffclt.E\n",
       ":   1.15882655001007\n",
       "\n"
      ],
      "text/plain": [
       "   Dffclt.A    Dffclt.B    Dffclt.C    Dffclt.D    Dffclt.E \n",
       "-1.17618278 -0.39160134 -0.05290487  0.20131818  1.15882655 "
      ]
     },
     "execution_count": 33,
     "metadata": {},
     "output_type": "execute_result"
    }
   ],
   "source": [
    "result_summary$coefficients[,1][1:nitem]"
   ]
  },
  {
   "cell_type": "code",
   "execution_count": 34,
   "metadata": {
    "collapsed": true
   },
   "outputs": [],
   "source": [
    "b <- result_summary$coefficients[,1][1:5]"
   ]
  },
  {
   "cell_type": "markdown",
   "metadata": {},
   "source": [
    "識別度、困難度が得られたので、表を作成しておく。"
   ]
  },
  {
   "cell_type": "code",
   "execution_count": 51,
   "metadata": {
    "collapsed": false
   },
   "outputs": [
    {
     "data": {
      "text/html": [
       "<table>\n",
       "<thead><tr><th></th><th scope=col>a</th><th scope=col>b</th></tr></thead>\n",
       "<tbody>\n",
       "\t<tr><th scope=row>A</th><td>1.215814</td><td>-1.176183</td></tr>\n",
       "\t<tr><th scope=row>B</th><td>1.574269</td><td>-0.3916013</td></tr>\n",
       "\t<tr><th scope=row>C</th><td>16.89939</td><td>-0.05290487</td></tr>\n",
       "\t<tr><th scope=row>D</th><td>1.169672</td><td>0.2013182</td></tr>\n",
       "\t<tr><th scope=row>E</th><td>1.181162</td><td>1.158827</td></tr>\n",
       "</tbody>\n",
       "</table>\n"
      ],
      "text/latex": [
       "\\begin{tabular}{r|ll}\n",
       "  & a & b\\\\\n",
       "\\hline\n",
       "\tA & 1.215814 & -1.176183\\\\\n",
       "\tB & 1.574269 & -0.3916013\\\\\n",
       "\tC & 16.89939 & -0.05290487\\\\\n",
       "\tD & 1.169672 & 0.2013182\\\\\n",
       "\tE & 1.181162 & 1.158827\\\\\n",
       "\\end{tabular}\n"
      ],
      "text/plain": [
       "          a           b\n",
       "A  1.215814 -1.17618278\n",
       "B  1.574269 -0.39160134\n",
       "C 16.899394 -0.05290487\n",
       "D  1.169672  0.20131818\n",
       "E  1.181162  1.15882655"
      ]
     },
     "execution_count": 51,
     "metadata": {},
     "output_type": "execute_result"
    }
   ],
   "source": [
    "params <- data.frame(a, b)\n",
    "params"
   ]
  },
  {
   "cell_type": "markdown",
   "metadata": {},
   "source": [
    "### 能力値の産出結果から、各受験者の能力値を得る"
   ]
  },
  {
   "cell_type": "code",
   "execution_count": 36,
   "metadata": {
    "collapsed": false
   },
   "outputs": [
    {
     "data": {
      "text/plain": [
       "\n",
       "Call:\n",
       "ltm(formula = data ~ z1, IRT.param = TRUE)\n",
       "\n",
       "Scoring Method: Empirical Bayes\n",
       "\n",
       "Factor-Scores for specified response patterns:\n",
       "   A B C D E Obs   Exp     z1 se.z1\n",
       "1  0 0 0 0 0   2 2.019 -1.201 0.698\n",
       "2  0 0 0 0 0   2 2.019 -1.201 0.698\n",
       "3  0 0 0 1 0   1 0.422 -0.670 0.655\n",
       "4  1 0 0 0 0   3 2.136 -0.650 0.653\n",
       "5  1 0 1 1 0   1 0.676  0.134 0.272\n",
       "6  1 0 0 0 0   3 2.136 -0.650 0.653\n",
       "7  1 1 0 0 0   2 1.235 -0.247 0.283\n",
       "8  1 1 1 1 0   3 2.893  0.529 0.678\n",
       "9  1 0 0 0 0   3 2.136 -0.650 0.653\n",
       "10 0 1 1 0 0   1 0.303  0.090 0.204\n",
       "11 1 1 1 1 0   3 2.893  0.529 0.678\n",
       "12 1 1 0 0 0   2 1.235 -0.247 0.283\n",
       "13 1 1 1 0 0   2 1.854  0.172 0.344\n",
       "14 1 1 1 1 0   3 2.893  0.529 0.678\n",
       "15 1 1 1 0 0   2 1.854  0.172 0.344\n",
       "16 1 1 1 1 1   2 2.354  1.112 0.728\n",
       "17 1 1 1 0 1   1 0.940  0.535 0.678\n",
       "18 1 0 1 1 1   1 0.303  0.358 0.631\n",
       "19 0 1 0 1 1   1 0.035 -0.186 0.193\n",
       "20 1 1 1 1 1   2 2.354  1.112 0.728\n"
      ]
     },
     "execution_count": 36,
     "metadata": {},
     "output_type": "execute_result"
    }
   ],
   "source": [
    "result_score"
   ]
  },
  {
   "cell_type": "markdown",
   "metadata": {},
   "source": [
    "アクセス方法を探るために str() 関数を用いると、$score.dat で値が取れそうである。"
   ]
  },
  {
   "cell_type": "code",
   "execution_count": 37,
   "metadata": {
    "collapsed": false
   },
   "outputs": [
    {
     "name": "stdout",
     "output_type": "stream",
     "text": [
      "List of 6\n",
      " $ score.dat:'data.frame':\t20 obs. of  9 variables:\n",
      "  ..$ A    : num [1:20] 0 0 0 1 1 1 1 1 1 0 ...\n",
      "  ..$ B    : num [1:20] 0 0 0 0 0 0 1 1 0 1 ...\n",
      "  ..$ C    : num [1:20] 0 0 0 0 1 0 0 1 0 1 ...\n",
      "  ..$ D    : num [1:20] 0 0 1 0 1 0 0 1 0 0 ...\n",
      "  ..$ E    : num [1:20] 0 0 0 0 0 0 0 0 0 0 ...\n",
      "  ..$ Obs  : num [1:20] 2 2 1 3 1 3 2 3 3 1 ...\n",
      "  ..$ Exp  : num [1:20] 2.019 2.019 0.422 2.136 0.676 ...\n",
      "  ..$ z1   : num [1:20] -1.201 -1.201 -0.67 -0.65 0.134 ...\n",
      "  ..$ se.z1: num [1:20] 0.698 0.698 0.655 0.653 0.272 ...\n",
      " $ method   : chr \"EB\"\n",
      " $ B        : num 5\n",
      " $ call     : language ltm(formula = data ~ z1, IRT.param = TRUE)\n",
      " $ resp.pats: logi TRUE\n",
      " $ coef     : num [1:5, 1:2] -1.1762 -0.3916 -0.0529 0.2013 1.1588 ...\n",
      "  ..- attr(*, \"dimnames\")=List of 2\n",
      "  .. ..$ : chr [1:5] \"A\" \"B\" \"C\" \"D\" ...\n",
      "  .. ..$ : chr [1:2] \"Dffclt\" \"Dscrmn\"\n",
      " - attr(*, \"class\")= chr \"fscores\"\n"
     ]
    }
   ],
   "source": [
    "str(result_score)"
   ]
  },
  {
   "cell_type": "code",
   "execution_count": 39,
   "metadata": {
    "collapsed": false
   },
   "outputs": [
    {
     "data": {
      "text/html": [
       "<table>\n",
       "<thead><tr><th></th><th scope=col>A</th><th scope=col>B</th><th scope=col>C</th><th scope=col>D</th><th scope=col>E</th><th scope=col>Obs</th><th scope=col>Exp</th><th scope=col>z1</th><th scope=col>se.z1</th></tr></thead>\n",
       "<tbody>\n",
       "\t<tr><th scope=row>1</th><td>0</td><td>0</td><td>0</td><td>0</td><td>0</td><td>2</td><td>2.019466</td><td>-1.201139</td><td>0.6975804</td></tr>\n",
       "\t<tr><th scope=row>2</th><td>0</td><td>0</td><td>0</td><td>0</td><td>0</td><td>2</td><td>2.019466</td><td>-1.201139</td><td>0.6975804</td></tr>\n",
       "\t<tr><th scope=row>3</th><td>0</td><td>0</td><td>0</td><td>1</td><td>0</td><td>1</td><td>0.4217768</td><td>-0.6698989</td><td>0.654864</td></tr>\n",
       "\t<tr><th scope=row>4</th><td>1</td><td>0</td><td>0</td><td>0</td><td>0</td><td>3</td><td>2.13579</td><td>-0.6501529</td><td>0.6534604</td></tr>\n",
       "\t<tr><th scope=row>5</th><td>1</td><td>0</td><td>1</td><td>1</td><td>0</td><td>1</td><td>0.6763016</td><td>0.1341029</td><td>0.2724876</td></tr>\n",
       "\t<tr><th scope=row>6</th><td>1</td><td>0</td><td>0</td><td>0</td><td>0</td><td>3</td><td>2.13579</td><td>-0.6501529</td><td>0.6534604</td></tr>\n",
       "</tbody>\n",
       "</table>\n"
      ],
      "text/latex": [
       "\\begin{tabular}{r|lllllllll}\n",
       "  & A & B & C & D & E & Obs & Exp & z1 & se.z1\\\\\n",
       "\\hline\n",
       "\t1 & 0 & 0 & 0 & 0 & 0 & 2 & 2.019466 & -1.201139 & 0.6975804\\\\\n",
       "\t2 & 0 & 0 & 0 & 0 & 0 & 2 & 2.019466 & -1.201139 & 0.6975804\\\\\n",
       "\t3 & 0 & 0 & 0 & 1 & 0 & 1 & 0.4217768 & -0.6698989 & 0.654864\\\\\n",
       "\t4 & 1 & 0 & 0 & 0 & 0 & 3 & 2.13579 & -0.6501529 & 0.6534604\\\\\n",
       "\t5 & 1 & 0 & 1 & 1 & 0 & 1 & 0.6763016 & 0.1341029 & 0.2724876\\\\\n",
       "\t6 & 1 & 0 & 0 & 0 & 0 & 3 & 2.13579 & -0.6501529 & 0.6534604\\\\\n",
       "\\end{tabular}\n"
      ],
      "text/plain": [
       "  A B C D E Obs       Exp         z1     se.z1\n",
       "1 0 0 0 0 0   2 2.0194662 -1.2011389 0.6975804\n",
       "2 0 0 0 0 0   2 2.0194662 -1.2011389 0.6975804\n",
       "3 0 0 0 1 0   1 0.4217768 -0.6698989 0.6548640\n",
       "4 1 0 0 0 0   3 2.1357901 -0.6501529 0.6534604\n",
       "5 1 0 1 1 0   1 0.6763016  0.1341029 0.2724876\n",
       "6 1 0 0 0 0   3 2.1357901 -0.6501529 0.6534604"
      ]
     },
     "execution_count": 39,
     "metadata": {},
     "output_type": "execute_result"
    }
   ],
   "source": [
    "head(result_score$score.dat)"
   ]
  },
  {
   "cell_type": "markdown",
   "metadata": {},
   "source": [
    "上の表で、8列目（可変である項目数＋3列目）のところに 'z1' があって、これが能力値なので、この値を取り出して変数 z1 に入れる。"
   ]
  },
  {
   "cell_type": "code",
   "execution_count": 47,
   "metadata": {
    "collapsed": false
   },
   "outputs": [],
   "source": [
    "z1 <- result_score$score.dat[,nitem+3]"
   ]
  },
  {
   "cell_type": "code",
   "execution_count": 48,
   "metadata": {
    "collapsed": false
   },
   "outputs": [
    {
     "data": {
      "text/html": [
       "<ol class=list-inline>\n",
       "\t<li>-1.20113888995434</li>\n",
       "\t<li>-1.20113888995434</li>\n",
       "\t<li>-0.669898857177779</li>\n",
       "\t<li>-0.65015292127576</li>\n",
       "\t<li>0.134102947876088</li>\n",
       "\t<li>-0.65015292127576</li>\n",
       "\t<li>-0.246544443467251</li>\n",
       "\t<li>0.529294595126303</li>\n",
       "\t<li>-0.65015292127576</li>\n",
       "\t<li>0.0895906918192895</li>\n",
       "\t<li>0.529294595126303</li>\n",
       "\t<li>-0.246544443467251</li>\n",
       "\t<li>0.171861451247284</li>\n",
       "\t<li>0.529294595126303</li>\n",
       "\t<li>0.171861451247284</li>\n",
       "\t<li>1.11229049042751</li>\n",
       "\t<li>0.534575646713981</li>\n",
       "\t<li>0.357688475948238</li>\n",
       "\t<li>-0.186184366885276</li>\n",
       "\t<li>1.11229049042751</li>\n",
       "</ol>\n"
      ],
      "text/latex": [
       "\\begin{enumerate*}\n",
       "\\item -1.20113888995434\n",
       "\\item -1.20113888995434\n",
       "\\item -0.669898857177779\n",
       "\\item -0.65015292127576\n",
       "\\item 0.134102947876088\n",
       "\\item -0.65015292127576\n",
       "\\item -0.246544443467251\n",
       "\\item 0.529294595126303\n",
       "\\item -0.65015292127576\n",
       "\\item 0.0895906918192895\n",
       "\\item 0.529294595126303\n",
       "\\item -0.246544443467251\n",
       "\\item 0.171861451247284\n",
       "\\item 0.529294595126303\n",
       "\\item 0.171861451247284\n",
       "\\item 1.11229049042751\n",
       "\\item 0.534575646713981\n",
       "\\item 0.357688475948238\n",
       "\\item -0.186184366885276\n",
       "\\item 1.11229049042751\n",
       "\\end{enumerate*}\n"
      ],
      "text/markdown": [
       "1. -1.20113888995434\n",
       "2. -1.20113888995434\n",
       "3. -0.669898857177779\n",
       "4. -0.65015292127576\n",
       "5. 0.134102947876088\n",
       "6. -0.65015292127576\n",
       "7. -0.246544443467251\n",
       "8. 0.529294595126303\n",
       "9. -0.65015292127576\n",
       "10. 0.0895906918192895\n",
       "11. 0.529294595126303\n",
       "12. -0.246544443467251\n",
       "13. 0.171861451247284\n",
       "14. 0.529294595126303\n",
       "15. 0.171861451247284\n",
       "16. 1.11229049042751\n",
       "17. 0.534575646713981\n",
       "18. 0.357688475948238\n",
       "19. -0.186184366885276\n",
       "20. 1.11229049042751\n",
       "\n",
       "\n"
      ],
      "text/plain": [
       " [1] -1.20113889 -1.20113889 -0.66989886 -0.65015292  0.13410295 -0.65015292\n",
       " [7] -0.24654444  0.52929460 -0.65015292  0.08959069  0.52929460 -0.24654444\n",
       "[13]  0.17186145  0.52929460  0.17186145  1.11229049  0.53457565  0.35768848\n",
       "[19] -0.18618437  1.11229049"
      ]
     },
     "execution_count": 48,
     "metadata": {},
     "output_type": "execute_result"
    }
   ],
   "source": [
    "z1"
   ]
  },
  {
   "cell_type": "markdown",
   "metadata": {},
   "source": [
    "### 各受験者が各項目で正解する確率\n",
    "\n",
    "各項目の識別度 a、困難度 b が出たので、それと各受験者の能力値を用いると、項目ごとに各受験者が正解する確率を計算できる。"
   ]
  },
  {
   "cell_type": "markdown",
   "metadata": {},
   "source": [
    "まず、2PL モデルに基づく確率計算のための関数を設定する。\n",
    "\n",
    "$$p = \\frac{1}{1 + e^{-1.701 a (x - b)}}$$"
   ]
  },
  {
   "cell_type": "code",
   "execution_count": 52,
   "metadata": {
    "collapsed": true
   },
   "outputs": [],
   "source": [
    "model2pl <- function(x, a, b){\n",
    "  return (1.0 / (1.0 + exp(-1.701 * a * (x - b))))\n",
    "}"
   ]
  },
  {
   "cell_type": "markdown",
   "metadata": {
    "collapsed": true
   },
   "source": [
    "確率の計算は、受験者数×項目数 の行列として算出するものとする。これは、もともとの CSV ファイルの内容と同じ大きさ dim(data) である。\n",
    "\n",
    "受験者数を nperson, 項目数を nitem に入れておく。"
   ]
  },
  {
   "cell_type": "code",
   "execution_count": 57,
   "metadata": {
    "collapsed": false
   },
   "outputs": [
    {
     "name": "stdout",
     "output_type": "stream",
     "text": [
      "[1] 20  5\n"
     ]
    }
   ],
   "source": [
    "print(dim(data))\n",
    "\n",
    "nperson <- dim(data)[1]\n",
    "nitem <- dim(data)[2]"
   ]
  },
  {
   "cell_type": "markdown",
   "metadata": {},
   "source": [
    "受験者数×項目数 の行列を作成し、計算した確率を入れていく。"
   ]
  },
  {
   "cell_type": "code",
   "execution_count": 58,
   "metadata": {
    "collapsed": false
   },
   "outputs": [],
   "source": [
    "mat <- matrix(nrow=nperson, ncol=nitem)\n",
    "\n",
    "for (i in 1:nperson) {\n",
    "    for (j in 1:nitem) {\n",
    "        mat[i, j] <- model2pl(z1[i], a[j], b[j])\n",
    "    }\n",
    "}"
   ]
  },
  {
   "cell_type": "code",
   "execution_count": 66,
   "metadata": {
    "collapsed": false
   },
   "outputs": [
    {
     "data": {
      "text/html": [
       "<table>\n",
       "<tbody>\n",
       "\t<tr><td>4.870999e-01</td><td>1.026791e-01</td><td>4.626455e-15</td><td>5.784814e-02</td><td>8.649714e-03</td></tr>\n",
       "\t<tr><td>4.870999e-01</td><td>1.026791e-01</td><td>4.626455e-15</td><td>5.784814e-02</td><td>8.649714e-03</td></tr>\n",
       "\t<tr><td>7.402071e-01</td><td>3.218607e-01</td><td>1.983081e-08</td><td>1.501553e-01</td><td>2.474207e-02</td></tr>\n",
       "\t<tr><td>7.479827e-01</td><td>3.335088e-01</td><td>3.498261e-08</td><td>1.552378e-01</td><td>2.571763e-02</td></tr>\n",
       "\t<tr><td>0.9376025</td><td>0.8034104</td><td>0.9953936</td><td>0.4666167</td><td>0.1131631</td></tr>\n",
       "\t<tr><td>7.479827e-01</td><td>3.335088e-01</td><td>3.498261e-08</td><td>1.552378e-01</td><td>2.571763e-02</td></tr>\n",
       "</tbody>\n",
       "</table>\n"
      ],
      "text/latex": [
       "\\begin{tabular}{lllll}\n",
       "\t 4.870999e-01 & 1.026791e-01 & 4.626455e-15 & 5.784814e-02 & 8.649714e-03\\\\\n",
       "\t 4.870999e-01 & 1.026791e-01 & 4.626455e-15 & 5.784814e-02 & 8.649714e-03\\\\\n",
       "\t 7.402071e-01 & 3.218607e-01 & 1.983081e-08 & 1.501553e-01 & 2.474207e-02\\\\\n",
       "\t 7.479827e-01 & 3.335088e-01 & 3.498261e-08 & 1.552378e-01 & 2.571763e-02\\\\\n",
       "\t 0.9376025 & 0.8034104 & 0.9953936 & 0.4666167 & 0.1131631\\\\\n",
       "\t 7.479827e-01 & 3.335088e-01 & 3.498261e-08 & 1.552378e-01 & 2.571763e-02\\\\\n",
       "\\end{tabular}\n"
      ],
      "text/markdown": [
       "1. 0.487099936478009\n",
       "2. 0.487099936478009\n",
       "3. 0.740207130342634\n",
       "4. 0.747982669076367\n",
       "5. 0.937602501945072\n",
       "6. 0.747982669076367\n",
       "7. 0.102679108630984\n",
       "8. 0.102679108630984\n",
       "9. 0.321860727094864\n",
       "10. 0.333508846649821\n",
       "11. 0.803410393243627\n",
       "12. 0.333508846649821\n",
       "13. 4.62645502310507e-15\n",
       "14. 4.62645502310507e-15\n",
       "15. 1.98308149580624e-08\n",
       "16. 3.49826114337343e-08\n",
       "17. 0.995393648843968\n",
       "18. 3.49826114337343e-08\n",
       "19. 0.0578481417598251\n",
       "20. 0.0578481417598251\n",
       "21. 0.150155278548546\n",
       "22. 0.155237810051175\n",
       "23. 0.466616681195464\n",
       "24. 0.155237810051175\n",
       "25. 0.0086497135350014\n",
       "26. 0.0086497135350014\n",
       "27. 0.0247420696864952\n",
       "28. 0.0257176338118935\n",
       "29. 0.11316310646469\n",
       "30. 0.0257176338118935\n",
       "\n",
       "\n"
      ],
      "text/plain": [
       "          [,1]      [,2]         [,3]       [,4]        [,5]\n",
       "[1,] 0.4870999 0.1026791 4.626455e-15 0.05784814 0.008649714\n",
       "[2,] 0.4870999 0.1026791 4.626455e-15 0.05784814 0.008649714\n",
       "[3,] 0.7402071 0.3218607 1.983081e-08 0.15015528 0.024742070\n",
       "[4,] 0.7479827 0.3335088 3.498261e-08 0.15523781 0.025717634\n",
       "[5,] 0.9376025 0.8034104 9.953936e-01 0.46661668 0.113163106\n",
       "[6,] 0.7479827 0.3335088 3.498261e-08 0.15523781 0.025717634"
      ]
     },
     "execution_count": 66,
     "metadata": {},
     "output_type": "execute_result"
    }
   ],
   "source": [
    "head(mat)"
   ]
  },
  {
   "cell_type": "markdown",
   "metadata": {},
   "source": [
    "data.frame 型に変換して、項目名を設定する。項目名は、もともとの項目名に加えて推測値であることがわかるように名前を拡張した。"
   ]
  },
  {
   "cell_type": "code",
   "execution_count": 70,
   "metadata": {
    "collapsed": false
   },
   "outputs": [],
   "source": [
    "expmat <- data.frame(mat)\n",
    "names(expmat) <- paste(item_names, rep(\".exp\", 5))"
   ]
  },
  {
   "cell_type": "code",
   "execution_count": 71,
   "metadata": {
    "collapsed": false
   },
   "outputs": [
    {
     "data": {
      "text/html": [
       "<table>\n",
       "<thead><tr><th></th><th scope=col>A .exp</th><th scope=col>B .exp</th><th scope=col>C .exp</th><th scope=col>D .exp</th><th scope=col>E .exp</th></tr></thead>\n",
       "<tbody>\n",
       "\t<tr><th scope=row>1</th><td>0.4870999</td><td>0.1026791</td><td>4.626455e-15</td><td>0.05784814</td><td>0.008649714</td></tr>\n",
       "\t<tr><th scope=row>2</th><td>0.4870999</td><td>0.1026791</td><td>4.626455e-15</td><td>0.05784814</td><td>0.008649714</td></tr>\n",
       "\t<tr><th scope=row>3</th><td>0.7402071</td><td>0.3218607</td><td>1.983081e-08</td><td>0.1501553</td><td>0.02474207</td></tr>\n",
       "\t<tr><th scope=row>4</th><td>0.7479827</td><td>0.3335088</td><td>3.498261e-08</td><td>0.1552378</td><td>0.02571763</td></tr>\n",
       "\t<tr><th scope=row>5</th><td>0.9376025</td><td>0.8034104</td><td>0.9953936</td><td>0.4666167</td><td>0.1131631</td></tr>\n",
       "\t<tr><th scope=row>6</th><td>0.7479827</td><td>0.3335088</td><td>3.498261e-08</td><td>0.1552378</td><td>0.02571763</td></tr>\n",
       "</tbody>\n",
       "</table>\n"
      ],
      "text/latex": [
       "\\begin{tabular}{r|lllll}\n",
       "  & A .exp & B .exp & C .exp & D .exp & E .exp\\\\\n",
       "\\hline\n",
       "\t1 & 0.4870999 & 0.1026791 & 4.626455e-15 & 0.05784814 & 0.008649714\\\\\n",
       "\t2 & 0.4870999 & 0.1026791 & 4.626455e-15 & 0.05784814 & 0.008649714\\\\\n",
       "\t3 & 0.7402071 & 0.3218607 & 1.983081e-08 & 0.1501553 & 0.02474207\\\\\n",
       "\t4 & 0.7479827 & 0.3335088 & 3.498261e-08 & 0.1552378 & 0.02571763\\\\\n",
       "\t5 & 0.9376025 & 0.8034104 & 0.9953936 & 0.4666167 & 0.1131631\\\\\n",
       "\t6 & 0.7479827 & 0.3335088 & 3.498261e-08 & 0.1552378 & 0.02571763\\\\\n",
       "\\end{tabular}\n"
      ],
      "text/plain": [
       "     A .exp    B .exp       C .exp     D .exp      E .exp\n",
       "1 0.4870999 0.1026791 4.626455e-15 0.05784814 0.008649714\n",
       "2 0.4870999 0.1026791 4.626455e-15 0.05784814 0.008649714\n",
       "3 0.7402071 0.3218607 1.983081e-08 0.15015528 0.024742070\n",
       "4 0.7479827 0.3335088 3.498261e-08 0.15523781 0.025717634\n",
       "5 0.9376025 0.8034104 9.953936e-01 0.46661668 0.113163106\n",
       "6 0.7479827 0.3335088 3.498261e-08 0.15523781 0.025717634"
      ]
     },
     "execution_count": 71,
     "metadata": {},
     "output_type": "execute_result"
    }
   ],
   "source": [
    "head(expmat)"
   ]
  },
  {
   "cell_type": "markdown",
   "metadata": {},
   "source": [
    "各被験者の各問題に対する答えが正解かどうか（答えが正解であれば1、不正解であれば0）と、\n",
    "正解となる確率の差を data.frame 型の変数 diffans に残す。（被験者数×項目数）\n",
    "\n",
    "正解する確率が 0.7 なのに、不正解 0 であれば、差は -0.7 となる。\n",
    "\n",
    "* 符号が正（0.5以上は特に）：間違ってしまう確率が高いのに正解だった。  \n",
    "* 符号が負（-0.5以下は特に）：正解する確率が高い（正解していい）はずなのに間違った。  \n",
    "* 差が -0.5 〜 0.5 の範囲 ： （被験者の能力値からみて）正解を出す確率が示すとおりの正解／不正解の結果となった。"
   ]
  },
  {
   "cell_type": "code",
   "execution_count": 77,
   "metadata": {
    "collapsed": true
   },
   "outputs": [],
   "source": [
    "diffans <- data.frame(data - expmat)\n",
    "names(diffans) <- paste(item_names, rep(\".diff\", 5))"
   ]
  },
  {
   "cell_type": "code",
   "execution_count": 79,
   "metadata": {
    "collapsed": false
   },
   "outputs": [
    {
     "data": {
      "text/html": [
       "<table>\n",
       "<thead><tr><th></th><th scope=col>A .diff</th><th scope=col>B .diff</th><th scope=col>C .diff</th><th scope=col>D .diff</th><th scope=col>E .diff</th></tr></thead>\n",
       "<tbody>\n",
       "\t<tr><th scope=row>1</th><td>-0.4870999</td><td>-0.1026791</td><td>-4.626455e-15</td><td>-0.05784814</td><td>-0.008649714</td></tr>\n",
       "\t<tr><th scope=row>2</th><td>-0.4870999</td><td>-0.1026791</td><td>-4.626455e-15</td><td>-0.05784814</td><td>-0.008649714</td></tr>\n",
       "\t<tr><th scope=row>3</th><td>-0.7402071</td><td>-0.3218607</td><td>-1.983081e-08</td><td>0.8498447</td><td>-0.02474207</td></tr>\n",
       "\t<tr><th scope=row>4</th><td>0.2520173</td><td>-0.3335088</td><td>-3.498261e-08</td><td>-0.1552378</td><td>-0.02571763</td></tr>\n",
       "\t<tr><th scope=row>5</th><td>0.0623975</td><td>-0.8034104</td><td>0.004606351</td><td>0.5333833</td><td>-0.1131631</td></tr>\n",
       "\t<tr><th scope=row>6</th><td>0.2520173</td><td>-0.3335088</td><td>-3.498261e-08</td><td>-0.1552378</td><td>-0.02571763</td></tr>\n",
       "</tbody>\n",
       "</table>\n"
      ],
      "text/latex": [
       "\\begin{tabular}{r|lllll}\n",
       "  & A .diff & B .diff & C .diff & D .diff & E .diff\\\\\n",
       "\\hline\n",
       "\t1 & -0.4870999 & -0.1026791 & -4.626455e-15 & -0.05784814 & -0.008649714\\\\\n",
       "\t2 & -0.4870999 & -0.1026791 & -4.626455e-15 & -0.05784814 & -0.008649714\\\\\n",
       "\t3 & -0.7402071 & -0.3218607 & -1.983081e-08 & 0.8498447 & -0.02474207\\\\\n",
       "\t4 & 0.2520173 & -0.3335088 & -3.498261e-08 & -0.1552378 & -0.02571763\\\\\n",
       "\t5 & 0.0623975 & -0.8034104 & 0.004606351 & 0.5333833 & -0.1131631\\\\\n",
       "\t6 & 0.2520173 & -0.3335088 & -3.498261e-08 & -0.1552378 & -0.02571763\\\\\n",
       "\\end{tabular}\n"
      ],
      "text/plain": [
       "     A .diff    B .diff       C .diff     D .diff      E .diff\n",
       "1 -0.4870999 -0.1026791 -4.626455e-15 -0.05784814 -0.008649714\n",
       "2 -0.4870999 -0.1026791 -4.626455e-15 -0.05784814 -0.008649714\n",
       "3 -0.7402071 -0.3218607 -1.983081e-08  0.84984472 -0.024742070\n",
       "4  0.2520173 -0.3335088 -3.498261e-08 -0.15523781 -0.025717634\n",
       "5  0.0623975 -0.8034104  4.606351e-03  0.53338332 -0.113163106\n",
       "6  0.2520173 -0.3335088 -3.498261e-08 -0.15523781 -0.025717634"
      ]
     },
     "execution_count": 79,
     "metadata": {},
     "output_type": "execute_result"
    }
   ],
   "source": [
    "head(diffans)"
   ]
  },
  {
   "cell_type": "markdown",
   "metadata": {
    "collapsed": false
   },
   "source": [
    "もともとの解答（正解、不正解データ）と上で計算した各項目ごとの正解確率、（正解、不正解）の０／１データと正解確率との差の表、そして各受験者の能力値を結合させた表を作成する。"
   ]
  },
  {
   "cell_type": "code",
   "execution_count": 82,
   "metadata": {
    "collapsed": false
   },
   "outputs": [],
   "source": [
    "dataall <- cbind(data, expmat, diffans, z1)"
   ]
  },
  {
   "cell_type": "code",
   "execution_count": 83,
   "metadata": {
    "collapsed": false
   },
   "outputs": [
    {
     "data": {
      "text/html": [
       "<table>\n",
       "<thead><tr><th></th><th scope=col>A</th><th scope=col>B</th><th scope=col>C</th><th scope=col>D</th><th scope=col>E</th><th scope=col>A .exp</th><th scope=col>B .exp</th><th scope=col>C .exp</th><th scope=col>D .exp</th><th scope=col>E .exp</th><th scope=col>A .diff</th><th scope=col>B .diff</th><th scope=col>C .diff</th><th scope=col>D .diff</th><th scope=col>E .diff</th><th scope=col>z1</th></tr></thead>\n",
       "<tbody>\n",
       "\t<tr><th scope=row>1</th><td>0</td><td>0</td><td>0</td><td>0</td><td>0</td><td>0.4870999</td><td>0.1026791</td><td>4.626455e-15</td><td>0.05784814</td><td>0.008649714</td><td>-0.4870999</td><td>-0.1026791</td><td>-4.626455e-15</td><td>-0.05784814</td><td>-0.008649714</td><td>-1.201139</td></tr>\n",
       "\t<tr><th scope=row>2</th><td>0</td><td>0</td><td>0</td><td>0</td><td>0</td><td>0.4870999</td><td>0.1026791</td><td>4.626455e-15</td><td>0.05784814</td><td>0.008649714</td><td>-0.4870999</td><td>-0.1026791</td><td>-4.626455e-15</td><td>-0.05784814</td><td>-0.008649714</td><td>-1.201139</td></tr>\n",
       "\t<tr><th scope=row>3</th><td>0</td><td>0</td><td>0</td><td>1</td><td>0</td><td>0.7402071</td><td>0.3218607</td><td>1.983081e-08</td><td>0.1501553</td><td>0.02474207</td><td>-0.7402071</td><td>-0.3218607</td><td>-1.983081e-08</td><td>0.8498447</td><td>-0.02474207</td><td>-0.6698989</td></tr>\n",
       "\t<tr><th scope=row>4</th><td>1</td><td>0</td><td>0</td><td>0</td><td>0</td><td>0.7479827</td><td>0.3335088</td><td>3.498261e-08</td><td>0.1552378</td><td>0.02571763</td><td>0.2520173</td><td>-0.3335088</td><td>-3.498261e-08</td><td>-0.1552378</td><td>-0.02571763</td><td>-0.6501529</td></tr>\n",
       "\t<tr><th scope=row>5</th><td>1</td><td>0</td><td>1</td><td>1</td><td>0</td><td>0.9376025</td><td>0.8034104</td><td>0.9953936</td><td>0.4666167</td><td>0.1131631</td><td>0.0623975</td><td>-0.8034104</td><td>0.004606351</td><td>0.5333833</td><td>-0.1131631</td><td>0.1341029</td></tr>\n",
       "\t<tr><th scope=row>6</th><td>1</td><td>0</td><td>0</td><td>0</td><td>0</td><td>0.7479827</td><td>0.3335088</td><td>3.498261e-08</td><td>0.1552378</td><td>0.02571763</td><td>0.2520173</td><td>-0.3335088</td><td>-3.498261e-08</td><td>-0.1552378</td><td>-0.02571763</td><td>-0.6501529</td></tr>\n",
       "</tbody>\n",
       "</table>\n"
      ],
      "text/latex": [
       "\\begin{tabular}{r|llllllllllllllll}\n",
       "  & A & B & C & D & E & A .exp & B .exp & C .exp & D .exp & E .exp & A .diff & B .diff & C .diff & D .diff & E .diff & z1\\\\\n",
       "\\hline\n",
       "\t1 & 0 & 0 & 0 & 0 & 0 & 0.4870999 & 0.1026791 & 4.626455e-15 & 0.05784814 & 0.008649714 & -0.4870999 & -0.1026791 & -4.626455e-15 & -0.05784814 & -0.008649714 & -1.201139\\\\\n",
       "\t2 & 0 & 0 & 0 & 0 & 0 & 0.4870999 & 0.1026791 & 4.626455e-15 & 0.05784814 & 0.008649714 & -0.4870999 & -0.1026791 & -4.626455e-15 & -0.05784814 & -0.008649714 & -1.201139\\\\\n",
       "\t3 & 0 & 0 & 0 & 1 & 0 & 0.7402071 & 0.3218607 & 1.983081e-08 & 0.1501553 & 0.02474207 & -0.7402071 & -0.3218607 & -1.983081e-08 & 0.8498447 & -0.02474207 & -0.6698989\\\\\n",
       "\t4 & 1 & 0 & 0 & 0 & 0 & 0.7479827 & 0.3335088 & 3.498261e-08 & 0.1552378 & 0.02571763 & 0.2520173 & -0.3335088 & -3.498261e-08 & -0.1552378 & -0.02571763 & -0.6501529\\\\\n",
       "\t5 & 1 & 0 & 1 & 1 & 0 & 0.9376025 & 0.8034104 & 0.9953936 & 0.4666167 & 0.1131631 & 0.0623975 & -0.8034104 & 0.004606351 & 0.5333833 & -0.1131631 & 0.1341029\\\\\n",
       "\t6 & 1 & 0 & 0 & 0 & 0 & 0.7479827 & 0.3335088 & 3.498261e-08 & 0.1552378 & 0.02571763 & 0.2520173 & -0.3335088 & -3.498261e-08 & -0.1552378 & -0.02571763 & -0.6501529\\\\\n",
       "\\end{tabular}\n"
      ],
      "text/plain": [
       "  A B C D E    A .exp    B .exp       C .exp     D .exp      E .exp    A .diff\n",
       "1 0 0 0 0 0 0.4870999 0.1026791 4.626455e-15 0.05784814 0.008649714 -0.4870999\n",
       "2 0 0 0 0 0 0.4870999 0.1026791 4.626455e-15 0.05784814 0.008649714 -0.4870999\n",
       "3 0 0 0 1 0 0.7402071 0.3218607 1.983081e-08 0.15015528 0.024742070 -0.7402071\n",
       "4 1 0 0 0 0 0.7479827 0.3335088 3.498261e-08 0.15523781 0.025717634  0.2520173\n",
       "5 1 0 1 1 0 0.9376025 0.8034104 9.953936e-01 0.46661668 0.113163106  0.0623975\n",
       "6 1 0 0 0 0 0.7479827 0.3335088 3.498261e-08 0.15523781 0.025717634  0.2520173\n",
       "     B .diff       C .diff     D .diff      E .diff         z1\n",
       "1 -0.1026791 -4.626455e-15 -0.05784814 -0.008649714 -1.2011389\n",
       "2 -0.1026791 -4.626455e-15 -0.05784814 -0.008649714 -1.2011389\n",
       "3 -0.3218607 -1.983081e-08  0.84984472 -0.024742070 -0.6698989\n",
       "4 -0.3335088 -3.498261e-08 -0.15523781 -0.025717634 -0.6501529\n",
       "5 -0.8034104  4.606351e-03  0.53338332 -0.113163106  0.1341029\n",
       "6 -0.3335088 -3.498261e-08 -0.15523781 -0.025717634 -0.6501529"
      ]
     },
     "execution_count": 83,
     "metadata": {},
     "output_type": "execute_result"
    }
   ],
   "source": [
    "head(dataall)"
   ]
  }
 ],
 "metadata": {
  "kernelspec": {
   "display_name": "R",
   "language": "R",
   "name": "ir"
  },
  "language_info": {
   "codemirror_mode": "r",
   "file_extension": ".r",
   "mimetype": "text/x-r-source",
   "name": "R",
   "pygments_lexer": "r",
   "version": "3.2.3"
  }
 },
 "nbformat": 4,
 "nbformat_minor": 0
}
